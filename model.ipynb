{
 "cells": [
  {
   "cell_type": "markdown",
   "id": "c90d76e1",
   "metadata": {},
   "source": [
    "Project Name:-DeepCSAT-Ecommerce Customer Satisfaction Score Prediction\n",
    "\n",
    "\n",
    "contribute by sumit sarodiya\n"
   ]
  },
  {
   "cell_type": "markdown",
   "id": "e77a7943",
   "metadata": {},
   "source": [
    "#Project Summary"
   ]
  },
  {
   "cell_type": "markdown",
   "id": "eb2a7f45",
   "metadata": {},
   "source": [
    "1.Objective:-Predict customer satisfaction scores in an e-commerce platform using deep learning (DeepCSAT model).\n",
    "\n",
    "2.Problem Statement:-Online retailers need to understand customer satisfaction from behavioral and transactional data to improve experience and retention.\n",
    "\n",
    "3.Data Preprocessing:- Cleaning, handling missing values, encoding categorical data, and normalization.\n",
    "\n",
    "4.Exploratory Data Analysis (EDA):- Understanding relationships between features and satisfaction levels.\n",
    "\n",
    "5.Modules:Data Collection,Data Pre-processing,Model Building,Model Evaluation,Prediction\n",
    "\n",
    "6.Buid Model:-Design and train a model Ann Deep Learning Model (DeepCSAT)\n",
    "\n",
    "7.Results:-Deep Learning model (DeepCSAT) provided better accuracy than other algorithms.DeepCSAT effectively predicts customer satisfaction score.\n",
    "\n",
    "8.Conclusion:-The project successfully predicts customer satisfaction.Helps improve business decision-making."
   ]
  },
  {
   "cell_type": "markdown",
   "id": "c5ce1104",
   "metadata": {},
   "source": [
    "#EDA"
   ]
  },
  {
   "cell_type": "markdown",
   "id": "26b8ae95",
   "metadata": {},
   "source": [
    "->Collecting The Data"
   ]
  },
  {
   "cell_type": "code",
   "execution_count": 1,
   "id": "958cc071",
   "metadata": {},
   "outputs": [
    {
     "data": {
      "text/html": [
       "<div>\n",
       "<style scoped>\n",
       "    .dataframe tbody tr th:only-of-type {\n",
       "        vertical-align: middle;\n",
       "    }\n",
       "\n",
       "    .dataframe tbody tr th {\n",
       "        vertical-align: top;\n",
       "    }\n",
       "\n",
       "    .dataframe thead th {\n",
       "        text-align: right;\n",
       "    }\n",
       "</style>\n",
       "<table border=\"1\" class=\"dataframe\">\n",
       "  <thead>\n",
       "    <tr style=\"text-align: right;\">\n",
       "      <th></th>\n",
       "      <th>Unique id</th>\n",
       "      <th>channel_name</th>\n",
       "      <th>category</th>\n",
       "      <th>Sub-category</th>\n",
       "      <th>Customer Remarks</th>\n",
       "      <th>Order_id</th>\n",
       "      <th>order_date_time</th>\n",
       "      <th>Issue_reported at</th>\n",
       "      <th>issue_responded</th>\n",
       "      <th>Survey_response_Date</th>\n",
       "      <th>Customer_City</th>\n",
       "      <th>Product_category</th>\n",
       "      <th>Item_price</th>\n",
       "      <th>connected_handling_time</th>\n",
       "      <th>Agent_name</th>\n",
       "      <th>Supervisor</th>\n",
       "      <th>Manager</th>\n",
       "      <th>Tenure Bucket</th>\n",
       "      <th>Agent Shift</th>\n",
       "      <th>CSAT Score</th>\n",
       "    </tr>\n",
       "  </thead>\n",
       "  <tbody>\n",
       "    <tr>\n",
       "      <th>0</th>\n",
       "      <td>7e9ae164-6a8b-4521-a2d4-58f7c9fff13f</td>\n",
       "      <td>Outcall</td>\n",
       "      <td>Product Queries</td>\n",
       "      <td>Life Insurance</td>\n",
       "      <td>NaN</td>\n",
       "      <td>c27c9bb4-fa36-4140-9f1f-21009254ffdb</td>\n",
       "      <td>NaN</td>\n",
       "      <td>01/08/2023 11:13</td>\n",
       "      <td>01/08/2023 11:47</td>\n",
       "      <td>01-Aug-23</td>\n",
       "      <td>NaN</td>\n",
       "      <td>NaN</td>\n",
       "      <td>NaN</td>\n",
       "      <td>NaN</td>\n",
       "      <td>Richard Buchanan</td>\n",
       "      <td>Mason Gupta</td>\n",
       "      <td>Jennifer Nguyen</td>\n",
       "      <td>On Job Training</td>\n",
       "      <td>Morning</td>\n",
       "      <td>5</td>\n",
       "    </tr>\n",
       "    <tr>\n",
       "      <th>1</th>\n",
       "      <td>b07ec1b0-f376-43b6-86df-ec03da3b2e16</td>\n",
       "      <td>Outcall</td>\n",
       "      <td>Product Queries</td>\n",
       "      <td>Product Specific Information</td>\n",
       "      <td>NaN</td>\n",
       "      <td>d406b0c7-ce17-4654-b9de-f08d421254bd</td>\n",
       "      <td>NaN</td>\n",
       "      <td>01/08/2023 12:52</td>\n",
       "      <td>01/08/2023 12:54</td>\n",
       "      <td>01-Aug-23</td>\n",
       "      <td>NaN</td>\n",
       "      <td>NaN</td>\n",
       "      <td>NaN</td>\n",
       "      <td>NaN</td>\n",
       "      <td>Vicki Collins</td>\n",
       "      <td>Dylan Kim</td>\n",
       "      <td>Michael Lee</td>\n",
       "      <td>&gt;90</td>\n",
       "      <td>Morning</td>\n",
       "      <td>5</td>\n",
       "    </tr>\n",
       "    <tr>\n",
       "      <th>2</th>\n",
       "      <td>200814dd-27c7-4149-ba2b-bd3af3092880</td>\n",
       "      <td>Inbound</td>\n",
       "      <td>Order Related</td>\n",
       "      <td>Installation/demo</td>\n",
       "      <td>NaN</td>\n",
       "      <td>c273368d-b961-44cb-beaf-62d6fd6c00d5</td>\n",
       "      <td>NaN</td>\n",
       "      <td>01/08/2023 20:16</td>\n",
       "      <td>01/08/2023 20:38</td>\n",
       "      <td>01-Aug-23</td>\n",
       "      <td>NaN</td>\n",
       "      <td>NaN</td>\n",
       "      <td>NaN</td>\n",
       "      <td>NaN</td>\n",
       "      <td>Duane Norman</td>\n",
       "      <td>Jackson Park</td>\n",
       "      <td>William Kim</td>\n",
       "      <td>On Job Training</td>\n",
       "      <td>Evening</td>\n",
       "      <td>5</td>\n",
       "    </tr>\n",
       "    <tr>\n",
       "      <th>3</th>\n",
       "      <td>eb0d3e53-c1ca-42d3-8486-e42c8d622135</td>\n",
       "      <td>Inbound</td>\n",
       "      <td>Returns</td>\n",
       "      <td>Reverse Pickup Enquiry</td>\n",
       "      <td>NaN</td>\n",
       "      <td>5aed0059-55a4-4ec6-bb54-97942092020a</td>\n",
       "      <td>NaN</td>\n",
       "      <td>01/08/2023 20:56</td>\n",
       "      <td>01/08/2023 21:16</td>\n",
       "      <td>01-Aug-23</td>\n",
       "      <td>NaN</td>\n",
       "      <td>NaN</td>\n",
       "      <td>NaN</td>\n",
       "      <td>NaN</td>\n",
       "      <td>Patrick Flores</td>\n",
       "      <td>Olivia Wang</td>\n",
       "      <td>John Smith</td>\n",
       "      <td>&gt;90</td>\n",
       "      <td>Evening</td>\n",
       "      <td>5</td>\n",
       "    </tr>\n",
       "    <tr>\n",
       "      <th>4</th>\n",
       "      <td>ba903143-1e54-406c-b969-46c52f92e5df</td>\n",
       "      <td>Inbound</td>\n",
       "      <td>Cancellation</td>\n",
       "      <td>Not Needed</td>\n",
       "      <td>NaN</td>\n",
       "      <td>e8bed5a9-6933-4aff-9dc6-ccefd7dcde59</td>\n",
       "      <td>NaN</td>\n",
       "      <td>01/08/2023 10:30</td>\n",
       "      <td>01/08/2023 10:32</td>\n",
       "      <td>01-Aug-23</td>\n",
       "      <td>NaN</td>\n",
       "      <td>NaN</td>\n",
       "      <td>NaN</td>\n",
       "      <td>NaN</td>\n",
       "      <td>Christopher Sanchez</td>\n",
       "      <td>Austin Johnson</td>\n",
       "      <td>Michael Lee</td>\n",
       "      <td>0-30</td>\n",
       "      <td>Morning</td>\n",
       "      <td>5</td>\n",
       "    </tr>\n",
       "  </tbody>\n",
       "</table>\n",
       "</div>"
      ],
      "text/plain": [
       "                              Unique id channel_name         category  \\\n",
       "0  7e9ae164-6a8b-4521-a2d4-58f7c9fff13f      Outcall  Product Queries   \n",
       "1  b07ec1b0-f376-43b6-86df-ec03da3b2e16      Outcall  Product Queries   \n",
       "2  200814dd-27c7-4149-ba2b-bd3af3092880      Inbound    Order Related   \n",
       "3  eb0d3e53-c1ca-42d3-8486-e42c8d622135      Inbound          Returns   \n",
       "4  ba903143-1e54-406c-b969-46c52f92e5df      Inbound     Cancellation   \n",
       "\n",
       "                   Sub-category Customer Remarks  \\\n",
       "0                Life Insurance              NaN   \n",
       "1  Product Specific Information              NaN   \n",
       "2             Installation/demo              NaN   \n",
       "3        Reverse Pickup Enquiry              NaN   \n",
       "4                    Not Needed              NaN   \n",
       "\n",
       "                               Order_id order_date_time Issue_reported at  \\\n",
       "0  c27c9bb4-fa36-4140-9f1f-21009254ffdb             NaN  01/08/2023 11:13   \n",
       "1  d406b0c7-ce17-4654-b9de-f08d421254bd             NaN  01/08/2023 12:52   \n",
       "2  c273368d-b961-44cb-beaf-62d6fd6c00d5             NaN  01/08/2023 20:16   \n",
       "3  5aed0059-55a4-4ec6-bb54-97942092020a             NaN  01/08/2023 20:56   \n",
       "4  e8bed5a9-6933-4aff-9dc6-ccefd7dcde59             NaN  01/08/2023 10:30   \n",
       "\n",
       "    issue_responded Survey_response_Date Customer_City Product_category  \\\n",
       "0  01/08/2023 11:47            01-Aug-23           NaN              NaN   \n",
       "1  01/08/2023 12:54            01-Aug-23           NaN              NaN   \n",
       "2  01/08/2023 20:38            01-Aug-23           NaN              NaN   \n",
       "3  01/08/2023 21:16            01-Aug-23           NaN              NaN   \n",
       "4  01/08/2023 10:32            01-Aug-23           NaN              NaN   \n",
       "\n",
       "   Item_price  connected_handling_time           Agent_name      Supervisor  \\\n",
       "0         NaN                      NaN     Richard Buchanan     Mason Gupta   \n",
       "1         NaN                      NaN        Vicki Collins       Dylan Kim   \n",
       "2         NaN                      NaN         Duane Norman    Jackson Park   \n",
       "3         NaN                      NaN       Patrick Flores     Olivia Wang   \n",
       "4         NaN                      NaN  Christopher Sanchez  Austin Johnson   \n",
       "\n",
       "           Manager    Tenure Bucket Agent Shift  CSAT Score  \n",
       "0  Jennifer Nguyen  On Job Training     Morning           5  \n",
       "1      Michael Lee              >90     Morning           5  \n",
       "2      William Kim  On Job Training     Evening           5  \n",
       "3       John Smith              >90     Evening           5  \n",
       "4      Michael Lee             0-30     Morning           5  "
      ]
     },
     "execution_count": 1,
     "metadata": {},
     "output_type": "execute_result"
    }
   ],
   "source": [
    "import pandas as pd\n",
    "df=pd.read_csv(r\"C:\\Users\\A S U S\\Downloads\\eCommerce_Customer_support_data - eCommerce_Customer_support_data.csv\")\n",
    "df.head()"
   ]
  },
  {
   "cell_type": "markdown",
   "id": "09a8fcec",
   "metadata": {},
   "source": [
    "->Data Intraction"
   ]
  },
  {
   "cell_type": "code",
   "execution_count": 2,
   "id": "d5ef095f",
   "metadata": {},
   "outputs": [
    {
     "data": {
      "text/plain": [
       "(85907, 20)"
      ]
     },
     "execution_count": 2,
     "metadata": {},
     "output_type": "execute_result"
    }
   ],
   "source": [
    "df.shape"
   ]
  },
  {
   "cell_type": "code",
   "execution_count": 3,
   "id": "2a0ffbf2",
   "metadata": {},
   "outputs": [
    {
     "data": {
      "text/plain": [
       "Index(['Unique id', 'channel_name', 'category', 'Sub-category',\n",
       "       'Customer Remarks', 'Order_id', 'order_date_time', 'Issue_reported at',\n",
       "       'issue_responded', 'Survey_response_Date', 'Customer_City',\n",
       "       'Product_category', 'Item_price', 'connected_handling_time',\n",
       "       'Agent_name', 'Supervisor', 'Manager', 'Tenure Bucket', 'Agent Shift',\n",
       "       'CSAT Score'],\n",
       "      dtype='object')"
      ]
     },
     "execution_count": 3,
     "metadata": {},
     "output_type": "execute_result"
    }
   ],
   "source": [
    "df.columns"
   ]
  },
  {
   "cell_type": "code",
   "execution_count": 4,
   "id": "a14aab2f",
   "metadata": {},
   "outputs": [
    {
     "name": "stdout",
     "output_type": "stream",
     "text": [
      "<class 'pandas.core.frame.DataFrame'>\n",
      "RangeIndex: 85907 entries, 0 to 85906\n",
      "Data columns (total 20 columns):\n",
      " #   Column                   Non-Null Count  Dtype  \n",
      "---  ------                   --------------  -----  \n",
      " 0   Unique id                85907 non-null  object \n",
      " 1   channel_name             85907 non-null  object \n",
      " 2   category                 85907 non-null  object \n",
      " 3   Sub-category             85907 non-null  object \n",
      " 4   Customer Remarks         28739 non-null  object \n",
      " 5   Order_id                 67675 non-null  object \n",
      " 6   order_date_time          17214 non-null  object \n",
      " 7   Issue_reported at        85907 non-null  object \n",
      " 8   issue_responded          85907 non-null  object \n",
      " 9   Survey_response_Date     85907 non-null  object \n",
      " 10  Customer_City            17079 non-null  object \n",
      " 11  Product_category         17196 non-null  object \n",
      " 12  Item_price               17206 non-null  float64\n",
      " 13  connected_handling_time  242 non-null    float64\n",
      " 14  Agent_name               85907 non-null  object \n",
      " 15  Supervisor               85907 non-null  object \n",
      " 16  Manager                  85907 non-null  object \n",
      " 17  Tenure Bucket            85907 non-null  object \n",
      " 18  Agent Shift              85907 non-null  object \n",
      " 19  CSAT Score               85907 non-null  int64  \n",
      "dtypes: float64(2), int64(1), object(17)\n",
      "memory usage: 13.1+ MB\n"
     ]
    }
   ],
   "source": [
    "df.info()"
   ]
  },
  {
   "cell_type": "markdown",
   "id": "d5508f1b",
   "metadata": {},
   "source": [
    "->Summary Of Data"
   ]
  },
  {
   "cell_type": "code",
   "execution_count": 5,
   "id": "001e933b",
   "metadata": {},
   "outputs": [
    {
     "data": {
      "text/html": [
       "<div>\n",
       "<style scoped>\n",
       "    .dataframe tbody tr th:only-of-type {\n",
       "        vertical-align: middle;\n",
       "    }\n",
       "\n",
       "    .dataframe tbody tr th {\n",
       "        vertical-align: top;\n",
       "    }\n",
       "\n",
       "    .dataframe thead th {\n",
       "        text-align: right;\n",
       "    }\n",
       "</style>\n",
       "<table border=\"1\" class=\"dataframe\">\n",
       "  <thead>\n",
       "    <tr style=\"text-align: right;\">\n",
       "      <th></th>\n",
       "      <th>Unique id</th>\n",
       "      <th>channel_name</th>\n",
       "      <th>category</th>\n",
       "      <th>Sub-category</th>\n",
       "      <th>Customer Remarks</th>\n",
       "      <th>Order_id</th>\n",
       "      <th>order_date_time</th>\n",
       "      <th>Issue_reported at</th>\n",
       "      <th>issue_responded</th>\n",
       "      <th>Survey_response_Date</th>\n",
       "      <th>Customer_City</th>\n",
       "      <th>Product_category</th>\n",
       "      <th>Agent_name</th>\n",
       "      <th>Supervisor</th>\n",
       "      <th>Manager</th>\n",
       "      <th>Tenure Bucket</th>\n",
       "      <th>Agent Shift</th>\n",
       "    </tr>\n",
       "  </thead>\n",
       "  <tbody>\n",
       "    <tr>\n",
       "      <th>count</th>\n",
       "      <td>85907</td>\n",
       "      <td>85907</td>\n",
       "      <td>85907</td>\n",
       "      <td>85907</td>\n",
       "      <td>28739</td>\n",
       "      <td>67675</td>\n",
       "      <td>17214</td>\n",
       "      <td>85907</td>\n",
       "      <td>85907</td>\n",
       "      <td>85907</td>\n",
       "      <td>17079</td>\n",
       "      <td>17196</td>\n",
       "      <td>85907</td>\n",
       "      <td>85907</td>\n",
       "      <td>85907</td>\n",
       "      <td>85907</td>\n",
       "      <td>85907</td>\n",
       "    </tr>\n",
       "    <tr>\n",
       "      <th>unique</th>\n",
       "      <td>85907</td>\n",
       "      <td>3</td>\n",
       "      <td>12</td>\n",
       "      <td>57</td>\n",
       "      <td>17656</td>\n",
       "      <td>67675</td>\n",
       "      <td>13766</td>\n",
       "      <td>30923</td>\n",
       "      <td>30262</td>\n",
       "      <td>31</td>\n",
       "      <td>1782</td>\n",
       "      <td>9</td>\n",
       "      <td>1371</td>\n",
       "      <td>40</td>\n",
       "      <td>6</td>\n",
       "      <td>5</td>\n",
       "      <td>5</td>\n",
       "    </tr>\n",
       "    <tr>\n",
       "      <th>top</th>\n",
       "      <td>7e9ae164-6a8b-4521-a2d4-58f7c9fff13f</td>\n",
       "      <td>Inbound</td>\n",
       "      <td>Returns</td>\n",
       "      <td>Reverse Pickup Enquiry</td>\n",
       "      <td>Good</td>\n",
       "      <td>c27c9bb4-fa36-4140-9f1f-21009254ffdb</td>\n",
       "      <td>09/08/2023 11:55</td>\n",
       "      <td>13/08/2023 10:40</td>\n",
       "      <td>28/08/2023 00:00</td>\n",
       "      <td>28-Aug-23</td>\n",
       "      <td>HYDERABAD</td>\n",
       "      <td>Electronics</td>\n",
       "      <td>Wendy Taylor</td>\n",
       "      <td>Carter Park</td>\n",
       "      <td>John Smith</td>\n",
       "      <td>&gt;90</td>\n",
       "      <td>Morning</td>\n",
       "    </tr>\n",
       "    <tr>\n",
       "      <th>freq</th>\n",
       "      <td>1</td>\n",
       "      <td>68142</td>\n",
       "      <td>44097</td>\n",
       "      <td>22389</td>\n",
       "      <td>2553</td>\n",
       "      <td>1</td>\n",
       "      <td>7</td>\n",
       "      <td>13</td>\n",
       "      <td>3378</td>\n",
       "      <td>3452</td>\n",
       "      <td>722</td>\n",
       "      <td>4706</td>\n",
       "      <td>429</td>\n",
       "      <td>4273</td>\n",
       "      <td>25261</td>\n",
       "      <td>30660</td>\n",
       "      <td>41426</td>\n",
       "    </tr>\n",
       "  </tbody>\n",
       "</table>\n",
       "</div>"
      ],
      "text/plain": [
       "                                   Unique id channel_name category  \\\n",
       "count                                  85907        85907    85907   \n",
       "unique                                 85907            3       12   \n",
       "top     7e9ae164-6a8b-4521-a2d4-58f7c9fff13f      Inbound  Returns   \n",
       "freq                                       1        68142    44097   \n",
       "\n",
       "                  Sub-category Customer Remarks  \\\n",
       "count                    85907            28739   \n",
       "unique                      57            17656   \n",
       "top     Reverse Pickup Enquiry             Good   \n",
       "freq                     22389             2553   \n",
       "\n",
       "                                    Order_id   order_date_time  \\\n",
       "count                                  67675             17214   \n",
       "unique                                 67675             13766   \n",
       "top     c27c9bb4-fa36-4140-9f1f-21009254ffdb  09/08/2023 11:55   \n",
       "freq                                       1                 7   \n",
       "\n",
       "       Issue_reported at   issue_responded Survey_response_Date Customer_City  \\\n",
       "count              85907             85907                85907         17079   \n",
       "unique             30923             30262                   31          1782   \n",
       "top     13/08/2023 10:40  28/08/2023 00:00            28-Aug-23     HYDERABAD   \n",
       "freq                  13              3378                 3452           722   \n",
       "\n",
       "       Product_category    Agent_name   Supervisor     Manager Tenure Bucket  \\\n",
       "count             17196         85907        85907       85907         85907   \n",
       "unique                9          1371           40           6             5   \n",
       "top         Electronics  Wendy Taylor  Carter Park  John Smith           >90   \n",
       "freq               4706           429         4273       25261         30660   \n",
       "\n",
       "       Agent Shift  \n",
       "count        85907  \n",
       "unique           5  \n",
       "top        Morning  \n",
       "freq         41426  "
      ]
     },
     "execution_count": 5,
     "metadata": {},
     "output_type": "execute_result"
    }
   ],
   "source": [
    "df.describe(include=object)"
   ]
  },
  {
   "cell_type": "code",
   "execution_count": 6,
   "id": "028cb536",
   "metadata": {},
   "outputs": [
    {
     "data": {
      "text/html": [
       "<div>\n",
       "<style scoped>\n",
       "    .dataframe tbody tr th:only-of-type {\n",
       "        vertical-align: middle;\n",
       "    }\n",
       "\n",
       "    .dataframe tbody tr th {\n",
       "        vertical-align: top;\n",
       "    }\n",
       "\n",
       "    .dataframe thead th {\n",
       "        text-align: right;\n",
       "    }\n",
       "</style>\n",
       "<table border=\"1\" class=\"dataframe\">\n",
       "  <thead>\n",
       "    <tr style=\"text-align: right;\">\n",
       "      <th></th>\n",
       "      <th>Item_price</th>\n",
       "      <th>connected_handling_time</th>\n",
       "      <th>CSAT Score</th>\n",
       "    </tr>\n",
       "  </thead>\n",
       "  <tbody>\n",
       "    <tr>\n",
       "      <th>count</th>\n",
       "      <td>17206.000000</td>\n",
       "      <td>242.000000</td>\n",
       "      <td>85907.000000</td>\n",
       "    </tr>\n",
       "    <tr>\n",
       "      <th>mean</th>\n",
       "      <td>5660.774846</td>\n",
       "      <td>462.400826</td>\n",
       "      <td>4.242157</td>\n",
       "    </tr>\n",
       "    <tr>\n",
       "      <th>std</th>\n",
       "      <td>12825.728411</td>\n",
       "      <td>246.295037</td>\n",
       "      <td>1.378903</td>\n",
       "    </tr>\n",
       "    <tr>\n",
       "      <th>min</th>\n",
       "      <td>0.000000</td>\n",
       "      <td>0.000000</td>\n",
       "      <td>1.000000</td>\n",
       "    </tr>\n",
       "    <tr>\n",
       "      <th>25%</th>\n",
       "      <td>392.000000</td>\n",
       "      <td>293.000000</td>\n",
       "      <td>4.000000</td>\n",
       "    </tr>\n",
       "    <tr>\n",
       "      <th>50%</th>\n",
       "      <td>979.000000</td>\n",
       "      <td>427.000000</td>\n",
       "      <td>5.000000</td>\n",
       "    </tr>\n",
       "    <tr>\n",
       "      <th>75%</th>\n",
       "      <td>2699.750000</td>\n",
       "      <td>592.250000</td>\n",
       "      <td>5.000000</td>\n",
       "    </tr>\n",
       "    <tr>\n",
       "      <th>max</th>\n",
       "      <td>164999.000000</td>\n",
       "      <td>1986.000000</td>\n",
       "      <td>5.000000</td>\n",
       "    </tr>\n",
       "  </tbody>\n",
       "</table>\n",
       "</div>"
      ],
      "text/plain": [
       "          Item_price  connected_handling_time    CSAT Score\n",
       "count   17206.000000               242.000000  85907.000000\n",
       "mean     5660.774846               462.400826      4.242157\n",
       "std     12825.728411               246.295037      1.378903\n",
       "min         0.000000                 0.000000      1.000000\n",
       "25%       392.000000               293.000000      4.000000\n",
       "50%       979.000000               427.000000      5.000000\n",
       "75%      2699.750000               592.250000      5.000000\n",
       "max    164999.000000              1986.000000      5.000000"
      ]
     },
     "execution_count": 6,
     "metadata": {},
     "output_type": "execute_result"
    }
   ],
   "source": [
    "df.describe()"
   ]
  },
  {
   "cell_type": "code",
   "execution_count": 7,
   "id": "4d248085",
   "metadata": {},
   "outputs": [
    {
     "data": {
      "text/plain": [
       "Unique id                  85907\n",
       "channel_name                   3\n",
       "category                      12\n",
       "Sub-category                  57\n",
       "Customer Remarks           17656\n",
       "Order_id                   67675\n",
       "order_date_time            13766\n",
       "Issue_reported at          30923\n",
       "issue_responded            30262\n",
       "Survey_response_Date          31\n",
       "Customer_City               1782\n",
       "Product_category               9\n",
       "Item_price                  2789\n",
       "connected_handling_time      211\n",
       "Agent_name                  1371\n",
       "Supervisor                    40\n",
       "Manager                        6\n",
       "Tenure Bucket                  5\n",
       "Agent Shift                    5\n",
       "CSAT Score                     5\n",
       "dtype: int64"
      ]
     },
     "execution_count": 7,
     "metadata": {},
     "output_type": "execute_result"
    }
   ],
   "source": [
    "df.nunique()"
   ]
  },
  {
   "cell_type": "markdown",
   "id": "3035e54f",
   "metadata": {},
   "source": [
    "->Missing Value Handling"
   ]
  },
  {
   "cell_type": "code",
   "execution_count": 8,
   "id": "da5ebbd9",
   "metadata": {},
   "outputs": [
    {
     "data": {
      "text/plain": [
       "Unique id                      0\n",
       "channel_name                   0\n",
       "category                       0\n",
       "Sub-category                   0\n",
       "Customer Remarks           57168\n",
       "Order_id                   18232\n",
       "order_date_time            68693\n",
       "Issue_reported at              0\n",
       "issue_responded                0\n",
       "Survey_response_Date           0\n",
       "Customer_City              68828\n",
       "Product_category           68711\n",
       "Item_price                 68701\n",
       "connected_handling_time    85665\n",
       "Agent_name                     0\n",
       "Supervisor                     0\n",
       "Manager                        0\n",
       "Tenure Bucket                  0\n",
       "Agent Shift                    0\n",
       "CSAT Score                     0\n",
       "dtype: int64"
      ]
     },
     "execution_count": 8,
     "metadata": {},
     "output_type": "execute_result"
    }
   ],
   "source": [
    "df.isnull().sum()"
   ]
  },
  {
   "cell_type": "code",
   "execution_count": 9,
   "id": "71d00fa6",
   "metadata": {},
   "outputs": [],
   "source": [
    "df.fillna(0,inplace=True)"
   ]
  },
  {
   "cell_type": "markdown",
   "id": "38314cd7",
   "metadata": {},
   "source": [
    "#Data Disribution of the Data"
   ]
  },
  {
   "cell_type": "code",
   "execution_count": 10,
   "id": "9d72963d",
   "metadata": {},
   "outputs": [
    {
     "data": {
      "text/html": [
       "<div>\n",
       "<style scoped>\n",
       "    .dataframe tbody tr th:only-of-type {\n",
       "        vertical-align: middle;\n",
       "    }\n",
       "\n",
       "    .dataframe tbody tr th {\n",
       "        vertical-align: top;\n",
       "    }\n",
       "\n",
       "    .dataframe thead th {\n",
       "        text-align: right;\n",
       "    }\n",
       "</style>\n",
       "<table border=\"1\" class=\"dataframe\">\n",
       "  <thead>\n",
       "    <tr style=\"text-align: right;\">\n",
       "      <th></th>\n",
       "      <th>Item_price</th>\n",
       "      <th>connected_handling_time</th>\n",
       "      <th>CSAT Score</th>\n",
       "    </tr>\n",
       "  </thead>\n",
       "  <tbody>\n",
       "    <tr>\n",
       "      <th>count</th>\n",
       "      <td>85907.000000</td>\n",
       "      <td>85907.000000</td>\n",
       "      <td>85907.000000</td>\n",
       "    </tr>\n",
       "    <tr>\n",
       "      <th>mean</th>\n",
       "      <td>1133.775967</td>\n",
       "      <td>1.302583</td>\n",
       "      <td>4.242157</td>\n",
       "    </tr>\n",
       "    <tr>\n",
       "      <th>std</th>\n",
       "      <td>6170.745350</td>\n",
       "      <td>27.763363</td>\n",
       "      <td>1.378903</td>\n",
       "    </tr>\n",
       "    <tr>\n",
       "      <th>min</th>\n",
       "      <td>0.000000</td>\n",
       "      <td>0.000000</td>\n",
       "      <td>1.000000</td>\n",
       "    </tr>\n",
       "    <tr>\n",
       "      <th>25%</th>\n",
       "      <td>0.000000</td>\n",
       "      <td>0.000000</td>\n",
       "      <td>4.000000</td>\n",
       "    </tr>\n",
       "    <tr>\n",
       "      <th>50%</th>\n",
       "      <td>0.000000</td>\n",
       "      <td>0.000000</td>\n",
       "      <td>5.000000</td>\n",
       "    </tr>\n",
       "    <tr>\n",
       "      <th>75%</th>\n",
       "      <td>0.000000</td>\n",
       "      <td>0.000000</td>\n",
       "      <td>5.000000</td>\n",
       "    </tr>\n",
       "    <tr>\n",
       "      <th>max</th>\n",
       "      <td>164999.000000</td>\n",
       "      <td>1986.000000</td>\n",
       "      <td>5.000000</td>\n",
       "    </tr>\n",
       "  </tbody>\n",
       "</table>\n",
       "</div>"
      ],
      "text/plain": [
       "          Item_price  connected_handling_time    CSAT Score\n",
       "count   85907.000000             85907.000000  85907.000000\n",
       "mean     1133.775967                 1.302583      4.242157\n",
       "std      6170.745350                27.763363      1.378903\n",
       "min         0.000000                 0.000000      1.000000\n",
       "25%         0.000000                 0.000000      4.000000\n",
       "50%         0.000000                 0.000000      5.000000\n",
       "75%         0.000000                 0.000000      5.000000\n",
       "max    164999.000000              1986.000000      5.000000"
      ]
     },
     "execution_count": 10,
     "metadata": {},
     "output_type": "execute_result"
    }
   ],
   "source": [
    "df.describe()"
   ]
  },
  {
   "cell_type": "code",
   "execution_count": 11,
   "id": "c695d36d",
   "metadata": {},
   "outputs": [
    {
     "data": {
      "text/plain": [
       "Text(0.5, 0, 'Item Price')"
      ]
     },
     "execution_count": 11,
     "metadata": {},
     "output_type": "execute_result"
    },
    {
     "data": {
      "image/png": "[encoded data removed]",
      "text/plain": [
       "<Figure size 640x480 with 1 Axes>"
      ]
     },
     "metadata": {},
     "output_type": "display_data"
    }
   ],
   "source": [
    "import matplotlib.pyplot as plt\n",
    "import seaborn as sns\n",
    "sns.histplot(df['Item_price'], bins=15, kde=True, color='skyblue')\n",
    "plt.title('Distribution of Item Price')\n",
    "plt.xlabel('Item Price')"
   ]
  },
  {
   "cell_type": "code",
   "execution_count": 12,
   "id": "f10e8bff",
   "metadata": {},
   "outputs": [
    {
     "data": {
      "text/plain": [
       "Text(0.5, 0, 'Connected Handling Time')"
      ]
     },
     "execution_count": 12,
     "metadata": {},
     "output_type": "execute_result"
    },
    {
     "data": {
      "image/png": "[encoded data removed]",
      "text/plain": [
       "<Figure size 640x480 with 1 Axes>"
      ]
     },
     "metadata": {},
     "output_type": "display_data"
    }
   ],
   "source": [
    "sns.histplot(df['connected_handling_time'], bins=15, kde=True, color='salmon')\n",
    "plt.title('Distribution of Connected Handling Time')\n",
    "plt.xlabel('Connected Handling Time')"
   ]
  },
  {
   "cell_type": "code",
   "execution_count": 13,
   "id": "7260dc48",
   "metadata": {},
   "outputs": [
    {
     "data": {
      "text/plain": [
       "Text(0.5, 0, 'CSAT Score')"
      ]
     },
     "execution_count": 13,
     "metadata": {},
     "output_type": "execute_result"
    },
    {
     "data": {
      "image/png": "[encoded data removed]",
      "text/plain": [
       "<Figure size 640x480 with 1 Axes>"
      ]
     },
     "metadata": {},
     "output_type": "display_data"
    }
   ],
   "source": [
    "sns.histplot(df['CSAT Score'], bins=5, kde=True, color='purple')\n",
    "plt.title('CSAT Score Distribution')\n",
    "plt.xlabel('CSAT Score')"
   ]
  },
  {
   "cell_type": "markdown",
   "id": "bf8668b7",
   "metadata": {},
   "source": [
    "->Correlation Of The Data"
   ]
  },
  {
   "cell_type": "code",
   "execution_count": 14,
   "id": "175c4649",
   "metadata": {},
   "outputs": [
    {
     "data": {
      "text/html": [
       "<div>\n",
       "<style scoped>\n",
       "    .dataframe tbody tr th:only-of-type {\n",
       "        vertical-align: middle;\n",
       "    }\n",
       "\n",
       "    .dataframe tbody tr th {\n",
       "        vertical-align: top;\n",
       "    }\n",
       "\n",
       "    .dataframe thead th {\n",
       "        text-align: right;\n",
       "    }\n",
       "</style>\n",
       "<table border=\"1\" class=\"dataframe\">\n",
       "  <thead>\n",
       "    <tr style=\"text-align: right;\">\n",
       "      <th></th>\n",
       "      <th>Item_price</th>\n",
       "      <th>connected_handling_time</th>\n",
       "      <th>CSAT Score</th>\n",
       "    </tr>\n",
       "  </thead>\n",
       "  <tbody>\n",
       "    <tr>\n",
       "      <th>count</th>\n",
       "      <td>85907.000000</td>\n",
       "      <td>85907.000000</td>\n",
       "      <td>85907.000000</td>\n",
       "    </tr>\n",
       "    <tr>\n",
       "      <th>mean</th>\n",
       "      <td>1133.775967</td>\n",
       "      <td>1.302583</td>\n",
       "      <td>4.242157</td>\n",
       "    </tr>\n",
       "    <tr>\n",
       "      <th>std</th>\n",
       "      <td>6170.745350</td>\n",
       "      <td>27.763363</td>\n",
       "      <td>1.378903</td>\n",
       "    </tr>\n",
       "    <tr>\n",
       "      <th>min</th>\n",
       "      <td>0.000000</td>\n",
       "      <td>0.000000</td>\n",
       "      <td>1.000000</td>\n",
       "    </tr>\n",
       "    <tr>\n",
       "      <th>25%</th>\n",
       "      <td>0.000000</td>\n",
       "      <td>0.000000</td>\n",
       "      <td>4.000000</td>\n",
       "    </tr>\n",
       "    <tr>\n",
       "      <th>50%</th>\n",
       "      <td>0.000000</td>\n",
       "      <td>0.000000</td>\n",
       "      <td>5.000000</td>\n",
       "    </tr>\n",
       "    <tr>\n",
       "      <th>75%</th>\n",
       "      <td>0.000000</td>\n",
       "      <td>0.000000</td>\n",
       "      <td>5.000000</td>\n",
       "    </tr>\n",
       "    <tr>\n",
       "      <th>max</th>\n",
       "      <td>164999.000000</td>\n",
       "      <td>1986.000000</td>\n",
       "      <td>5.000000</td>\n",
       "    </tr>\n",
       "  </tbody>\n",
       "</table>\n",
       "</div>"
      ],
      "text/plain": [
       "          Item_price  connected_handling_time    CSAT Score\n",
       "count   85907.000000             85907.000000  85907.000000\n",
       "mean     1133.775967                 1.302583      4.242157\n",
       "std      6170.745350                27.763363      1.378903\n",
       "min         0.000000                 0.000000      1.000000\n",
       "25%         0.000000                 0.000000      4.000000\n",
       "50%         0.000000                 0.000000      5.000000\n",
       "75%         0.000000                 0.000000      5.000000\n",
       "max    164999.000000              1986.000000      5.000000"
      ]
     },
     "execution_count": 14,
     "metadata": {},
     "output_type": "execute_result"
    }
   ],
   "source": [
    "df.describe()"
   ]
  },
  {
   "cell_type": "code",
   "execution_count": 15,
   "id": "51e0ab8a",
   "metadata": {},
   "outputs": [],
   "source": [
    "num_cols=['Item_price','connected_handling_time','CSAT Score']"
   ]
  },
  {
   "cell_type": "code",
   "execution_count": 16,
   "id": "ee52557b",
   "metadata": {},
   "outputs": [
    {
     "data": {
      "text/html": [
       "<div>\n",
       "<style scoped>\n",
       "    .dataframe tbody tr th:only-of-type {\n",
       "        vertical-align: middle;\n",
       "    }\n",
       "\n",
       "    .dataframe tbody tr th {\n",
       "        vertical-align: top;\n",
       "    }\n",
       "\n",
       "    .dataframe thead th {\n",
       "        text-align: right;\n",
       "    }\n",
       "</style>\n",
       "<table border=\"1\" class=\"dataframe\">\n",
       "  <thead>\n",
       "    <tr style=\"text-align: right;\">\n",
       "      <th></th>\n",
       "      <th>Item_price</th>\n",
       "      <th>connected_handling_time</th>\n",
       "      <th>CSAT Score</th>\n",
       "    </tr>\n",
       "  </thead>\n",
       "  <tbody>\n",
       "    <tr>\n",
       "      <th>Item_price</th>\n",
       "      <td>1.000000</td>\n",
       "      <td>-0.004094</td>\n",
       "      <td>-0.095505</td>\n",
       "    </tr>\n",
       "    <tr>\n",
       "      <th>connected_handling_time</th>\n",
       "      <td>-0.004094</td>\n",
       "      <td>1.000000</td>\n",
       "      <td>0.009712</td>\n",
       "    </tr>\n",
       "    <tr>\n",
       "      <th>CSAT Score</th>\n",
       "      <td>-0.095505</td>\n",
       "      <td>0.009712</td>\n",
       "      <td>1.000000</td>\n",
       "    </tr>\n",
       "  </tbody>\n",
       "</table>\n",
       "</div>"
      ],
      "text/plain": [
       "                         Item_price  connected_handling_time  CSAT Score\n",
       "Item_price                 1.000000                -0.004094   -0.095505\n",
       "connected_handling_time   -0.004094                 1.000000    0.009712\n",
       "CSAT Score                -0.095505                 0.009712    1.000000"
      ]
     },
     "execution_count": 16,
     "metadata": {},
     "output_type": "execute_result"
    }
   ],
   "source": [
    "correlation=df[num_cols].corr()\n",
    "correlation"
   ]
  },
  {
   "cell_type": "code",
   "execution_count": 17,
   "id": "0f2a9c0e",
   "metadata": {},
   "outputs": [
    {
     "data": {
      "image/png": "[encoded data removed]",
      "text/plain": [
       "<Figure size 640x480 with 2 Axes>"
      ]
     },
     "metadata": {},
     "output_type": "display_data"
    }
   ],
   "source": [
    "import seaborn as sns\n",
    "import matplotlib.pyplot as plt\n",
    "sns.heatmap(correlation,cmap='coolwarm',annot=True,linewidths=0.5)\n",
    "plt.title(\"correlation of data\")\n",
    "plt.show()"
   ]
  },
  {
   "cell_type": "markdown",
   "id": "77a13ba4",
   "metadata": {},
   "source": [
    "->Insights Of The Data\n",
    "\n",
    "1.Item_price vs CSAT Score:-\n",
    "Correlation = -0.096.There is a very small negative link between item price and customer satisfaction.This means when the item price increases, customer satisfaction slightly goes down — but the effect is very small.\n",
    "\n",
    "2.Connected_handling_time vs CSAT Score:-\n",
    "Correlation = 0.0097.The value is almost zero, meaning handling time does not affect customer satisfaction in this data.\n",
    "\n",
    "3.Item_price vs Connected_handling_time:-\n",
    "Correlation = -0.0041.This value is also close to zero, showing there is no clear relationship between how much an item costs and how long it takes to handle.\n",
    "\n",
    "4.Overall Insight:-All the correlation values are very close to zero, which means the factors in this data are not strongly related to each other.Customer satisfaction (CSAT) may depend on other things like delivery speed, product quality, or customer service — not just price or handling time."
   ]
  },
  {
   "cell_type": "markdown",
   "id": "962da306",
   "metadata": {},
   "source": [
    "#Drop Unused columns"
   ]
  },
  {
   "cell_type": "code",
   "execution_count": 18,
   "id": "2457a056",
   "metadata": {},
   "outputs": [],
   "source": [
    "df.drop(['Customer Remarks','Order_id','order_date_time','Customer_City','Product_category','Unique id'],axis=1,inplace=True)"
   ]
  },
  {
   "cell_type": "markdown",
   "id": "29a60cc2",
   "metadata": {},
   "source": [
    "#Preprocessing"
   ]
  },
  {
   "cell_type": "markdown",
   "id": "775e3063",
   "metadata": {},
   "source": [
    "->Label Encoding"
   ]
  },
  {
   "cell_type": "code",
   "execution_count": 19,
   "id": "48ee8135",
   "metadata": {},
   "outputs": [],
   "source": [
    "cat_col=['channel_name','category','Sub-category','Issue_reported at','issue_responded','Agent_name','Supervisor','Manager','Tenure Bucket','Agent Shift']\n",
    "from sklearn.preprocessing import LabelEncoder\n",
    "le=LabelEncoder()\n",
    "for col in cat_col:\n",
    "    df[col]=le.fit_transform(df[col])"
   ]
  },
  {
   "cell_type": "code",
   "execution_count": 20,
   "id": "2802797f",
   "metadata": {},
   "outputs": [
    {
     "data": {
      "text/html": [
       "<div>\n",
       "<style scoped>\n",
       "    .dataframe tbody tr th:only-of-type {\n",
       "        vertical-align: middle;\n",
       "    }\n",
       "\n",
       "    .dataframe tbody tr th {\n",
       "        vertical-align: top;\n",
       "    }\n",
       "\n",
       "    .dataframe thead th {\n",
       "        text-align: right;\n",
       "    }\n",
       "</style>\n",
       "<table border=\"1\" class=\"dataframe\">\n",
       "  <thead>\n",
       "    <tr style=\"text-align: right;\">\n",
       "      <th></th>\n",
       "      <th>channel_name</th>\n",
       "      <th>category</th>\n",
       "      <th>Sub-category</th>\n",
       "      <th>Issue_reported at</th>\n",
       "      <th>issue_responded</th>\n",
       "      <th>Survey_response_Date</th>\n",
       "      <th>Item_price</th>\n",
       "      <th>connected_handling_time</th>\n",
       "      <th>Agent_name</th>\n",
       "      <th>Supervisor</th>\n",
       "      <th>Manager</th>\n",
       "      <th>Tenure Bucket</th>\n",
       "      <th>Agent Shift</th>\n",
       "      <th>CSAT Score</th>\n",
       "    </tr>\n",
       "  </thead>\n",
       "  <tbody>\n",
       "    <tr>\n",
       "      <th>0</th>\n",
       "      <td>2</td>\n",
       "      <td>8</td>\n",
       "      <td>19</td>\n",
       "      <td>276</td>\n",
       "      <td>306</td>\n",
       "      <td>01-Aug-23</td>\n",
       "      <td>0.0</td>\n",
       "      <td>0.0</td>\n",
       "      <td>1072</td>\n",
       "      <td>26</td>\n",
       "      <td>1</td>\n",
       "      <td>4</td>\n",
       "      <td>2</td>\n",
       "      <td>5</td>\n",
       "    </tr>\n",
       "    <tr>\n",
       "      <th>1</th>\n",
       "      <td>2</td>\n",
       "      <td>8</td>\n",
       "      <td>34</td>\n",
       "      <td>368</td>\n",
       "      <td>367</td>\n",
       "      <td>01-Aug-23</td>\n",
       "      <td>0.0</td>\n",
       "      <td>0.0</td>\n",
       "      <td>1323</td>\n",
       "      <td>9</td>\n",
       "      <td>3</td>\n",
       "      <td>3</td>\n",
       "      <td>2</td>\n",
       "      <td>5</td>\n",
       "    </tr>\n",
       "    <tr>\n",
       "      <th>2</th>\n",
       "      <td>1</td>\n",
       "      <td>5</td>\n",
       "      <td>15</td>\n",
       "      <td>771</td>\n",
       "      <td>782</td>\n",
       "      <td>01-Aug-23</td>\n",
       "      <td>0.0</td>\n",
       "      <td>0.0</td>\n",
       "      <td>370</td>\n",
       "      <td>18</td>\n",
       "      <td>5</td>\n",
       "      <td>4</td>\n",
       "      <td>1</td>\n",
       "      <td>5</td>\n",
       "    </tr>\n",
       "    <tr>\n",
       "      <th>3</th>\n",
       "      <td>1</td>\n",
       "      <td>10</td>\n",
       "      <td>40</td>\n",
       "      <td>810</td>\n",
       "      <td>816</td>\n",
       "      <td>01-Aug-23</td>\n",
       "      <td>0.0</td>\n",
       "      <td>0.0</td>\n",
       "      <td>1024</td>\n",
       "      <td>33</td>\n",
       "      <td>2</td>\n",
       "      <td>3</td>\n",
       "      <td>1</td>\n",
       "      <td>5</td>\n",
       "    </tr>\n",
       "    <tr>\n",
       "      <th>4</th>\n",
       "      <td>1</td>\n",
       "      <td>1</td>\n",
       "      <td>22</td>\n",
       "      <td>236</td>\n",
       "      <td>240</td>\n",
       "      <td>01-Aug-23</td>\n",
       "      <td>0.0</td>\n",
       "      <td>0.0</td>\n",
       "      <td>247</td>\n",
       "      <td>4</td>\n",
       "      <td>3</td>\n",
       "      <td>0</td>\n",
       "      <td>2</td>\n",
       "      <td>5</td>\n",
       "    </tr>\n",
       "  </tbody>\n",
       "</table>\n",
       "</div>"
      ],
      "text/plain": [
       "   channel_name  category  Sub-category  Issue_reported at  issue_responded  \\\n",
       "0             2         8            19                276              306   \n",
       "1             2         8            34                368              367   \n",
       "2             1         5            15                771              782   \n",
       "3             1        10            40                810              816   \n",
       "4             1         1            22                236              240   \n",
       "\n",
       "  Survey_response_Date  Item_price  connected_handling_time  Agent_name  \\\n",
       "0            01-Aug-23         0.0                      0.0        1072   \n",
       "1            01-Aug-23         0.0                      0.0        1323   \n",
       "2            01-Aug-23         0.0                      0.0         370   \n",
       "3            01-Aug-23         0.0                      0.0        1024   \n",
       "4            01-Aug-23         0.0                      0.0         247   \n",
       "\n",
       "   Supervisor  Manager  Tenure Bucket  Agent Shift  CSAT Score  \n",
       "0          26        1              4            2           5  \n",
       "1           9        3              3            2           5  \n",
       "2          18        5              4            1           5  \n",
       "3          33        2              3            1           5  \n",
       "4           4        3              0            2           5  "
      ]
     },
     "execution_count": 20,
     "metadata": {},
     "output_type": "execute_result"
    }
   ],
   "source": [
    "df.head()"
   ]
  },
  {
   "cell_type": "markdown",
   "id": "aa729e88",
   "metadata": {},
   "source": [
    "->Feature scaling"
   ]
  },
  {
   "cell_type": "code",
   "execution_count": 21,
   "id": "bf1f155a",
   "metadata": {},
   "outputs": [],
   "source": [
    "from sklearn.preprocessing import StandardScaler\n",
    "scale=StandardScaler()\n",
    "df['Item_price']=scale.fit_transform(df[['Item_price']])\n",
    "df['connected_handling_time']=scale.fit_transform(df[['connected_handling_time']])"
   ]
  },
  {
   "cell_type": "markdown",
   "id": "b18a5c19",
   "metadata": {},
   "source": [
    "->Feature Extraction"
   ]
  },
  {
   "cell_type": "code",
   "execution_count": 22,
   "id": "107f8d0c",
   "metadata": {},
   "outputs": [
    {
     "name": "stderr",
     "output_type": "stream",
     "text": [
      "C:\\Users\\A S U S\\AppData\\Local\\Temp\\ipykernel_19632\\720770880.py:1: UserWarning: Could not infer format, so each element will be parsed individually, falling back to `dateutil`. To ensure parsing is consistent and as-expected, please specify a format.\n",
      "  df['Survey_response_Date'] = pd.to_datetime(df['Survey_response_Date'], errors='coerce')\n"
     ]
    }
   ],
   "source": [
    "df['Survey_response_Date'] = pd.to_datetime(df['Survey_response_Date'], errors='coerce')\n",
    "\n",
    "df['response_year'] = df['Survey_response_Date'].dt.year\n",
    "df['response_month'] = df['Survey_response_Date'].dt.month\n",
    "df['response_day'] = df['Survey_response_Date'].dt.day\n",
    "df['response_weekday'] = df['Survey_response_Date'].dt.weekday\n",
    "df['response_week'] = df['Survey_response_Date'].dt.isocalendar().week"
   ]
  },
  {
   "cell_type": "code",
   "execution_count": 23,
   "id": "c6ebfe79",
   "metadata": {},
   "outputs": [],
   "source": [
    "df = df.drop(columns=['Survey_response_Date'])"
   ]
  },
  {
   "cell_type": "markdown",
   "id": "50daebf1",
   "metadata": {},
   "source": [
    "#Split the Data"
   ]
  },
  {
   "cell_type": "code",
   "execution_count": 24,
   "id": "3b782a4a",
   "metadata": {},
   "outputs": [
    {
     "data": {
      "text/html": [
       "<div>\n",
       "<style scoped>\n",
       "    .dataframe tbody tr th:only-of-type {\n",
       "        vertical-align: middle;\n",
       "    }\n",
       "\n",
       "    .dataframe tbody tr th {\n",
       "        vertical-align: top;\n",
       "    }\n",
       "\n",
       "    .dataframe thead th {\n",
       "        text-align: right;\n",
       "    }\n",
       "</style>\n",
       "<table border=\"1\" class=\"dataframe\">\n",
       "  <thead>\n",
       "    <tr style=\"text-align: right;\">\n",
       "      <th></th>\n",
       "      <th>channel_name</th>\n",
       "      <th>category</th>\n",
       "      <th>Sub-category</th>\n",
       "      <th>Issue_reported at</th>\n",
       "      <th>issue_responded</th>\n",
       "      <th>Item_price</th>\n",
       "      <th>connected_handling_time</th>\n",
       "      <th>Agent_name</th>\n",
       "      <th>Supervisor</th>\n",
       "      <th>Manager</th>\n",
       "      <th>Tenure Bucket</th>\n",
       "      <th>Agent Shift</th>\n",
       "      <th>CSAT Score</th>\n",
       "      <th>response_year</th>\n",
       "      <th>response_month</th>\n",
       "      <th>response_day</th>\n",
       "      <th>response_weekday</th>\n",
       "      <th>response_week</th>\n",
       "    </tr>\n",
       "  </thead>\n",
       "  <tbody>\n",
       "    <tr>\n",
       "      <th>0</th>\n",
       "      <td>2</td>\n",
       "      <td>8</td>\n",
       "      <td>19</td>\n",
       "      <td>276</td>\n",
       "      <td>306</td>\n",
       "      <td>-0.183735</td>\n",
       "      <td>-0.046918</td>\n",
       "      <td>1072</td>\n",
       "      <td>26</td>\n",
       "      <td>1</td>\n",
       "      <td>4</td>\n",
       "      <td>2</td>\n",
       "      <td>5</td>\n",
       "      <td>2023</td>\n",
       "      <td>8</td>\n",
       "      <td>1</td>\n",
       "      <td>1</td>\n",
       "      <td>31</td>\n",
       "    </tr>\n",
       "    <tr>\n",
       "      <th>1</th>\n",
       "      <td>2</td>\n",
       "      <td>8</td>\n",
       "      <td>34</td>\n",
       "      <td>368</td>\n",
       "      <td>367</td>\n",
       "      <td>-0.183735</td>\n",
       "      <td>-0.046918</td>\n",
       "      <td>1323</td>\n",
       "      <td>9</td>\n",
       "      <td>3</td>\n",
       "      <td>3</td>\n",
       "      <td>2</td>\n",
       "      <td>5</td>\n",
       "      <td>2023</td>\n",
       "      <td>8</td>\n",
       "      <td>1</td>\n",
       "      <td>1</td>\n",
       "      <td>31</td>\n",
       "    </tr>\n",
       "    <tr>\n",
       "      <th>2</th>\n",
       "      <td>1</td>\n",
       "      <td>5</td>\n",
       "      <td>15</td>\n",
       "      <td>771</td>\n",
       "      <td>782</td>\n",
       "      <td>-0.183735</td>\n",
       "      <td>-0.046918</td>\n",
       "      <td>370</td>\n",
       "      <td>18</td>\n",
       "      <td>5</td>\n",
       "      <td>4</td>\n",
       "      <td>1</td>\n",
       "      <td>5</td>\n",
       "      <td>2023</td>\n",
       "      <td>8</td>\n",
       "      <td>1</td>\n",
       "      <td>1</td>\n",
       "      <td>31</td>\n",
       "    </tr>\n",
       "    <tr>\n",
       "      <th>3</th>\n",
       "      <td>1</td>\n",
       "      <td>10</td>\n",
       "      <td>40</td>\n",
       "      <td>810</td>\n",
       "      <td>816</td>\n",
       "      <td>-0.183735</td>\n",
       "      <td>-0.046918</td>\n",
       "      <td>1024</td>\n",
       "      <td>33</td>\n",
       "      <td>2</td>\n",
       "      <td>3</td>\n",
       "      <td>1</td>\n",
       "      <td>5</td>\n",
       "      <td>2023</td>\n",
       "      <td>8</td>\n",
       "      <td>1</td>\n",
       "      <td>1</td>\n",
       "      <td>31</td>\n",
       "    </tr>\n",
       "    <tr>\n",
       "      <th>4</th>\n",
       "      <td>1</td>\n",
       "      <td>1</td>\n",
       "      <td>22</td>\n",
       "      <td>236</td>\n",
       "      <td>240</td>\n",
       "      <td>-0.183735</td>\n",
       "      <td>-0.046918</td>\n",
       "      <td>247</td>\n",
       "      <td>4</td>\n",
       "      <td>3</td>\n",
       "      <td>0</td>\n",
       "      <td>2</td>\n",
       "      <td>5</td>\n",
       "      <td>2023</td>\n",
       "      <td>8</td>\n",
       "      <td>1</td>\n",
       "      <td>1</td>\n",
       "      <td>31</td>\n",
       "    </tr>\n",
       "    <tr>\n",
       "      <th>...</th>\n",
       "      <td>...</td>\n",
       "      <td>...</td>\n",
       "      <td>...</td>\n",
       "      <td>...</td>\n",
       "      <td>...</td>\n",
       "      <td>...</td>\n",
       "      <td>...</td>\n",
       "      <td>...</td>\n",
       "      <td>...</td>\n",
       "      <td>...</td>\n",
       "      <td>...</td>\n",
       "      <td>...</td>\n",
       "      <td>...</td>\n",
       "      <td>...</td>\n",
       "      <td>...</td>\n",
       "      <td>...</td>\n",
       "      <td>...</td>\n",
       "      <td>...</td>\n",
       "    </tr>\n",
       "    <tr>\n",
       "      <th>85902</th>\n",
       "      <td>1</td>\n",
       "      <td>9</td>\n",
       "      <td>36</td>\n",
       "      <td>29805</td>\n",
       "      <td>29386</td>\n",
       "      <td>-0.183735</td>\n",
       "      <td>-0.046918</td>\n",
       "      <td>142</td>\n",
       "      <td>14</td>\n",
       "      <td>5</td>\n",
       "      <td>4</td>\n",
       "      <td>2</td>\n",
       "      <td>4</td>\n",
       "      <td>2023</td>\n",
       "      <td>8</td>\n",
       "      <td>31</td>\n",
       "      <td>3</td>\n",
       "      <td>35</td>\n",
       "    </tr>\n",
       "    <tr>\n",
       "      <th>85903</th>\n",
       "      <td>1</td>\n",
       "      <td>5</td>\n",
       "      <td>42</td>\n",
       "      <td>30102</td>\n",
       "      <td>29420</td>\n",
       "      <td>-0.183735</td>\n",
       "      <td>-0.046918</td>\n",
       "      <td>776</td>\n",
       "      <td>30</td>\n",
       "      <td>0</td>\n",
       "      <td>3</td>\n",
       "      <td>2</td>\n",
       "      <td>5</td>\n",
       "      <td>2023</td>\n",
       "      <td>8</td>\n",
       "      <td>31</td>\n",
       "      <td>3</td>\n",
       "      <td>35</td>\n",
       "    </tr>\n",
       "    <tr>\n",
       "      <th>85904</th>\n",
       "      <td>1</td>\n",
       "      <td>5</td>\n",
       "      <td>25</td>\n",
       "      <td>30680</td>\n",
       "      <td>30005</td>\n",
       "      <td>-0.183735</td>\n",
       "      <td>-0.046918</td>\n",
       "      <td>732</td>\n",
       "      <td>1</td>\n",
       "      <td>4</td>\n",
       "      <td>4</td>\n",
       "      <td>1</td>\n",
       "      <td>5</td>\n",
       "      <td>2023</td>\n",
       "      <td>8</td>\n",
       "      <td>31</td>\n",
       "      <td>3</td>\n",
       "      <td>35</td>\n",
       "    </tr>\n",
       "    <tr>\n",
       "      <th>85905</th>\n",
       "      <td>1</td>\n",
       "      <td>2</td>\n",
       "      <td>50</td>\n",
       "      <td>30737</td>\n",
       "      <td>30061</td>\n",
       "      <td>-0.183735</td>\n",
       "      <td>-0.046918</td>\n",
       "      <td>295</td>\n",
       "      <td>32</td>\n",
       "      <td>4</td>\n",
       "      <td>3</td>\n",
       "      <td>2</td>\n",
       "      <td>4</td>\n",
       "      <td>2023</td>\n",
       "      <td>8</td>\n",
       "      <td>31</td>\n",
       "      <td>3</td>\n",
       "      <td>35</td>\n",
       "    </tr>\n",
       "    <tr>\n",
       "      <th>85906</th>\n",
       "      <td>1</td>\n",
       "      <td>10</td>\n",
       "      <td>40</td>\n",
       "      <td>30909</td>\n",
       "      <td>30245</td>\n",
       "      <td>-0.183735</td>\n",
       "      <td>-0.046918</td>\n",
       "      <td>386</td>\n",
       "      <td>29</td>\n",
       "      <td>1</td>\n",
       "      <td>4</td>\n",
       "      <td>1</td>\n",
       "      <td>5</td>\n",
       "      <td>2023</td>\n",
       "      <td>8</td>\n",
       "      <td>31</td>\n",
       "      <td>3</td>\n",
       "      <td>35</td>\n",
       "    </tr>\n",
       "  </tbody>\n",
       "</table>\n",
       "<p>85907 rows × 18 columns</p>\n",
       "</div>"
      ],
      "text/plain": [
       "       channel_name  category  Sub-category  Issue_reported at  \\\n",
       "0                 2         8            19                276   \n",
       "1                 2         8            34                368   \n",
       "2                 1         5            15                771   \n",
       "3                 1        10            40                810   \n",
       "4                 1         1            22                236   \n",
       "...             ...       ...           ...                ...   \n",
       "85902             1         9            36              29805   \n",
       "85903             1         5            42              30102   \n",
       "85904             1         5            25              30680   \n",
       "85905             1         2            50              30737   \n",
       "85906             1        10            40              30909   \n",
       "\n",
       "       issue_responded  Item_price  connected_handling_time  Agent_name  \\\n",
       "0                  306   -0.183735                -0.046918        1072   \n",
       "1                  367   -0.183735                -0.046918        1323   \n",
       "2                  782   -0.183735                -0.046918         370   \n",
       "3                  816   -0.183735                -0.046918        1024   \n",
       "4                  240   -0.183735                -0.046918         247   \n",
       "...                ...         ...                      ...         ...   \n",
       "85902            29386   -0.183735                -0.046918         142   \n",
       "85903            29420   -0.183735                -0.046918         776   \n",
       "85904            30005   -0.183735                -0.046918         732   \n",
       "85905            30061   -0.183735                -0.046918         295   \n",
       "85906            30245   -0.183735                -0.046918         386   \n",
       "\n",
       "       Supervisor  Manager  Tenure Bucket  Agent Shift  CSAT Score  \\\n",
       "0              26        1              4            2           5   \n",
       "1               9        3              3            2           5   \n",
       "2              18        5              4            1           5   \n",
       "3              33        2              3            1           5   \n",
       "4               4        3              0            2           5   \n",
       "...           ...      ...            ...          ...         ...   \n",
       "85902          14        5              4            2           4   \n",
       "85903          30        0              3            2           5   \n",
       "85904           1        4              4            1           5   \n",
       "85905          32        4              3            2           4   \n",
       "85906          29        1              4            1           5   \n",
       "\n",
       "       response_year  response_month  response_day  response_weekday  \\\n",
       "0               2023               8             1                 1   \n",
       "1               2023               8             1                 1   \n",
       "2               2023               8             1                 1   \n",
       "3               2023               8             1                 1   \n",
       "4               2023               8             1                 1   \n",
       "...              ...             ...           ...               ...   \n",
       "85902           2023               8            31                 3   \n",
       "85903           2023               8            31                 3   \n",
       "85904           2023               8            31                 3   \n",
       "85905           2023               8            31                 3   \n",
       "85906           2023               8            31                 3   \n",
       "\n",
       "       response_week  \n",
       "0                 31  \n",
       "1                 31  \n",
       "2                 31  \n",
       "3                 31  \n",
       "4                 31  \n",
       "...              ...  \n",
       "85902             35  \n",
       "85903             35  \n",
       "85904             35  \n",
       "85905             35  \n",
       "85906             35  \n",
       "\n",
       "[85907 rows x 18 columns]"
      ]
     },
     "execution_count": 24,
     "metadata": {},
     "output_type": "execute_result"
    }
   ],
   "source": [
    "df[df['CSAT Score'].between(1, 5)]"
   ]
  },
  {
   "cell_type": "code",
   "execution_count": 25,
   "id": "6d130564",
   "metadata": {},
   "outputs": [],
   "source": [
    "x=df.drop('CSAT Score',axis=1)\n",
    "y=df['CSAT Score']"
   ]
  },
  {
   "cell_type": "code",
   "execution_count": 26,
   "id": "7072c1c2",
   "metadata": {},
   "outputs": [],
   "source": [
    "#Convert 1-5 to 0-4\n",
    "y = y - 1 "
   ]
  },
  {
   "cell_type": "code",
   "execution_count": 27,
   "id": "a5287f48",
   "metadata": {},
   "outputs": [
    {
     "name": "stdout",
     "output_type": "stream",
     "text": [
      "Training set shape: (68725, 17)\n",
      "Test set shape: (17182, 17)\n"
     ]
    }
   ],
   "source": [
    "from sklearn.model_selection import train_test_split\n",
    "x_train,x_test,y_train,y_test=train_test_split(x,y,test_size=0.2,random_state=42,stratify=y)\n",
    "print(\"Training set shape:\", x_train.shape)\n",
    "print(\"Test set shape:\", x_test.shape)"
   ]
  },
  {
   "cell_type": "markdown",
   "id": "41585888",
   "metadata": {},
   "source": [
    "#Modeling"
   ]
  },
  {
   "cell_type": "markdown",
   "id": "7020287e",
   "metadata": {},
   "source": [
    "#Artificial Nerual Network"
   ]
  },
  {
   "cell_type": "code",
   "execution_count": 28,
   "id": "1e897f74",
   "metadata": {},
   "outputs": [
    {
     "name": "stderr",
     "output_type": "stream",
     "text": [
      "d:\\Project\\DeepCSAT\\.myenv\\Lib\\site-packages\\keras\\src\\layers\\core\\dense.py:92: UserWarning: Do not pass an `input_shape`/`input_dim` argument to a layer. When using Sequential models, prefer using an `Input(shape)` object as the first layer in the model instead.\n",
      "  super().__init__(activity_regularizer=activity_regularizer, **kwargs)\n"
     ]
    }
   ],
   "source": [
    "#Define the model\n",
    "from tensorflow.keras.models import Sequential\n",
    "from tensorflow.keras.layers import Dense\n",
    "ann=Sequential([\n",
    "    Dense(64,activation='relu', input_shape=(x_train.shape[1],)), \n",
    "    Dense(32,activation='relu'),\n",
    "    Dense(5,activation='softmax')\n",
    "])"
   ]
  },
  {
   "cell_type": "code",
   "execution_count": 29,
   "id": "9dd379d1",
   "metadata": {},
   "outputs": [],
   "source": [
    "#Compile the model\n",
    "ann.compile(loss='sparse_categorical_crossentropy',optimizer='adam',metrics=['accuracy'])"
   ]
  },
  {
   "cell_type": "code",
   "execution_count": null,
   "id": "8a251004",
   "metadata": {},
   "outputs": [
    {
     "name": "stdout",
     "output_type": "stream",
     "text": [
      "Epoch 1/20\n",
      "\u001b[1m1719/1719\u001b[0m \u001b[32m━━━━━━━━━━━━━━━━━━━━\u001b[0m\u001b[37m\u001b[0m \u001b[1m5s\u001b[0m 3ms/step - accuracy: 0.5188 - loss: 73.0589 - val_accuracy: 0.6703 - val_loss: 31.2777\n",
      "Epoch 2/20\n",
      "\u001b[1m1719/1719\u001b[0m \u001b[32m━━━━━━━━━━━━━━━━━━━━\u001b[0m\u001b[37m\u001b[0m \u001b[1m4s\u001b[0m 2ms/step - accuracy: 0.5227 - loss: 21.4200 - val_accuracy: 0.5761 - val_loss: 19.4037\n",
      "Epoch 3/20\n",
      "\u001b[1m1719/1719\u001b[0m \u001b[32m━━━━━━━━━━━━━━━━━━━━\u001b[0m\u001b[37m\u001b[0m \u001b[1m4s\u001b[0m 2ms/step - accuracy: 0.5262 - loss: 15.6032 - val_accuracy: 0.3081 - val_loss: 10.2274\n",
      "Epoch 4/20\n",
      "\u001b[1m1719/1719\u001b[0m \u001b[32m━━━━━━━━━━━━━━━━━━━━\u001b[0m\u001b[37m\u001b[0m \u001b[1m6s\u001b[0m 3ms/step - accuracy: 0.5286 - loss: 13.5480 - val_accuracy: 0.6646 - val_loss: 8.1745\n",
      "Epoch 5/20\n",
      "\u001b[1m1719/1719\u001b[0m \u001b[32m━━━━━━━━━━━━━━━━━━━━\u001b[0m\u001b[37m\u001b[0m \u001b[1m5s\u001b[0m 3ms/step - accuracy: 0.5302 - loss: 10.3579 - val_accuracy: 0.6963 - val_loss: 12.2639\n",
      "Epoch 6/20\n",
      "\u001b[1m1719/1719\u001b[0m \u001b[32m━━━━━━━━━━━━━━━━━━━━\u001b[0m\u001b[37m\u001b[0m \u001b[1m4s\u001b[0m 2ms/step - accuracy: 0.5327 - loss: 8.6776 - val_accuracy: 0.6891 - val_loss: 4.5573\n",
      "Epoch 7/20\n",
      "\u001b[1m1719/1719\u001b[0m \u001b[32m━━━━━━━━━━━━━━━━━━━━\u001b[0m\u001b[37m\u001b[0m \u001b[1m4s\u001b[0m 2ms/step - accuracy: 0.5354 - loss: 6.8449 - val_accuracy: 0.6947 - val_loss: 19.9447\n",
      "Epoch 8/20\n",
      "\u001b[1m1719/1719\u001b[0m \u001b[32m━━━━━━━━━━━━━━━━━━━━\u001b[0m\u001b[37m\u001b[0m \u001b[1m4s\u001b[0m 2ms/step - accuracy: 0.5401 - loss: 5.1881 - val_accuracy: 0.6840 - val_loss: 3.1042\n",
      "Epoch 9/20\n",
      "\u001b[1m1719/1719\u001b[0m \u001b[32m━━━━━━━━━━━━━━━━━━━━\u001b[0m\u001b[37m\u001b[0m \u001b[1m4s\u001b[0m 2ms/step - accuracy: 0.5537 - loss: 3.7448 - val_accuracy: 0.6974 - val_loss: 4.8735\n",
      "Epoch 10/20\n",
      "\u001b[1m1719/1719\u001b[0m \u001b[32m━━━━━━━━━━━━━━━━━━━━\u001b[0m\u001b[37m\u001b[0m \u001b[1m4s\u001b[0m 2ms/step - accuracy: 0.5896 - loss: 2.1557 - val_accuracy: 0.2351 - val_loss: 1.8477\n",
      "Epoch 11/20\n",
      "\u001b[1m1719/1719\u001b[0m \u001b[32m━━━━━━━━━━━━━━━━━━━━\u001b[0m\u001b[37m\u001b[0m \u001b[1m4s\u001b[0m 2ms/step - accuracy: 0.6241 - loss: 1.4150 - val_accuracy: 0.5815 - val_loss: 1.1884\n",
      "Epoch 12/20\n",
      "\u001b[1m1719/1719\u001b[0m \u001b[32m━━━━━━━━━━━━━━━━━━━━\u001b[0m\u001b[37m\u001b[0m \u001b[1m5s\u001b[0m 2ms/step - accuracy: 0.6483 - loss: 1.1834 - val_accuracy: 0.6971 - val_loss: 1.1920\n",
      "Epoch 13/20\n",
      "\u001b[1m1719/1719\u001b[0m \u001b[32m━━━━━━━━━━━━━━━━━━━━\u001b[0m\u001b[37m\u001b[0m \u001b[1m4s\u001b[0m 2ms/step - accuracy: 0.6894 - loss: 0.9816 - val_accuracy: 0.6971 - val_loss: 0.9483\n",
      "Epoch 14/20\n",
      "\u001b[1m1719/1719\u001b[0m \u001b[32m━━━━━━━━━━━━━━━━━━━━\u001b[0m\u001b[37m\u001b[0m \u001b[1m4s\u001b[0m 2ms/step - accuracy: 0.6932 - loss: 0.9543 - val_accuracy: 0.6971 - val_loss: 0.9478\n",
      "Epoch 15/20\n",
      "\u001b[1m1719/1719\u001b[0m \u001b[32m━━━━━━━━━━━━━━━━━━━━\u001b[0m\u001b[37m\u001b[0m \u001b[1m4s\u001b[0m 3ms/step - accuracy: 0.6932 - loss: 0.9541 - val_accuracy: 0.6971 - val_loss: 0.9478\n",
      "Epoch 16/20\n",
      "\u001b[1m1719/1719\u001b[0m \u001b[32m━━━━━━━━━━━━━━━━━━━━\u001b[0m\u001b[37m\u001b[0m \u001b[1m4s\u001b[0m 3ms/step - accuracy: 0.6932 - loss: 0.9541 - val_accuracy: 0.6971 - val_loss: 0.9478\n",
      "Epoch 17/20\n",
      "\u001b[1m1719/1719\u001b[0m \u001b[32m━━━━━━━━━━━━━━━━━━━━\u001b[0m\u001b[37m\u001b[0m \u001b[1m4s\u001b[0m 2ms/step - accuracy: 0.6932 - loss: 0.9541 - val_accuracy: 0.6971 - val_loss: 0.9477\n",
      "Epoch 18/20\n",
      "\u001b[1m1719/1719\u001b[0m \u001b[32m━━━━━━━━━━━━━━━━━━━━\u001b[0m\u001b[37m\u001b[0m \u001b[1m4s\u001b[0m 2ms/step - accuracy: 0.6932 - loss: 0.9541 - val_accuracy: 0.6971 - val_loss: 0.9478\n",
      "Epoch 19/20\n",
      "\u001b[1m1719/1719\u001b[0m \u001b[32m━━━━━━━━━━━━━━━━━━━━\u001b[0m\u001b[37m\u001b[0m \u001b[1m5s\u001b[0m 3ms/step - accuracy: 0.6932 - loss: 0.9541 - val_accuracy: 0.6971 - val_loss: 0.9478\n",
      "Epoch 20/20\n",
      "\u001b[1m1719/1719\u001b[0m \u001b[32m━━━━━━━━━━━━━━━━━━━━\u001b[0m\u001b[37m\u001b[0m \u001b[1m4s\u001b[0m 3ms/step - accuracy: 0.6932 - loss: 0.9541 - val_accuracy: 0.6971 - val_loss: 0.9477\n"
     ]
    }
   ],
   "source": [
    "#Train the model\n",
    "history=ann.fit(x_train,y_train,epochs=20,batch_size=32,validation_split=0.2)"
   ]
  },
  {
   "cell_type": "code",
   "execution_count": 31,
   "id": "3d5fe58b",
   "metadata": {},
   "outputs": [
    {
     "name": "stdout",
     "output_type": "stream",
     "text": [
      "\u001b[1m537/537\u001b[0m \u001b[32m━━━━━━━━━━━━━━━━━━━━\u001b[0m\u001b[37m\u001b[0m \u001b[1m1s\u001b[0m 2ms/step - accuracy: 0.6940 - loss: 0.9527\n",
      "Test Accuracy: 0.6939820647239685\n"
     ]
    }
   ],
   "source": [
    "#Evaluate\n",
    "loss,accuracy=ann.evaluate(x_test,y_test)\n",
    "print(\"Test Accuracy:\",accuracy)"
   ]
  },
  {
   "cell_type": "markdown",
   "id": "2f379c38",
   "metadata": {},
   "source": [
    "#BatchNormalization"
   ]
  },
  {
   "cell_type": "code",
   "execution_count": 32,
   "id": "682aaa7f",
   "metadata": {},
   "outputs": [
    {
     "name": "stderr",
     "output_type": "stream",
     "text": [
      "d:\\Project\\DeepCSAT\\.myenv\\Lib\\site-packages\\keras\\src\\layers\\core\\dense.py:92: UserWarning: Do not pass an `input_shape`/`input_dim` argument to a layer. When using Sequential models, prefer using an `Input(shape)` object as the first layer in the model instead.\n",
      "  super().__init__(activity_regularizer=activity_regularizer, **kwargs)\n"
     ]
    }
   ],
   "source": [
    "#Define model\n",
    "from tensorflow.keras.layers import BatchNormalization,Dropout\n",
    "batnorm=Sequential([\n",
    "    Dense(128, activation='relu', input_shape=(x_train.shape[1],)),\n",
    "    BatchNormalization(),\n",
    "    Dropout(0.3),\n",
    "    Dense(64, activation='relu'),\n",
    "    BatchNormalization(),\n",
    "    Dropout(0.2),\n",
    "    Dense(32, activation='relu'),\n",
    "    Dense(5, activation='softmax')\n",
    "])"
   ]
  },
  {
   "cell_type": "code",
   "execution_count": 33,
   "id": "9f7cebaa",
   "metadata": {},
   "outputs": [],
   "source": [
    "#Compile\n",
    "batnorm.compile(optimizer='adam',loss='sparse_categorical_crossentropy',metrics=['accuracy'])"
   ]
  },
  {
   "cell_type": "code",
   "execution_count": 34,
   "id": "a753779e",
   "metadata": {},
   "outputs": [
    {
     "name": "stdout",
     "output_type": "stream",
     "text": [
      "Epoch 1/20\n",
      "\u001b[1m860/860\u001b[0m \u001b[32m━━━━━━━━━━━━━━━━━━━━\u001b[0m\u001b[37m\u001b[0m \u001b[1m5s\u001b[0m 3ms/step - accuracy: 0.6820 - loss: 1.0120 - val_accuracy: 0.6968 - val_loss: 0.9533\n",
      "Epoch 2/20\n",
      "\u001b[1m860/860\u001b[0m \u001b[32m━━━━━━━━━━━━━━━━━━━━\u001b[0m\u001b[37m\u001b[0m \u001b[1m2s\u001b[0m 3ms/step - accuracy: 0.6924 - loss: 0.9643 - val_accuracy: 0.6949 - val_loss: 0.9697\n",
      "Epoch 3/20\n",
      "\u001b[1m860/860\u001b[0m \u001b[32m━━━━━━━━━━━━━━━━━━━━\u001b[0m\u001b[37m\u001b[0m \u001b[1m2s\u001b[0m 3ms/step - accuracy: 0.6921 - loss: 0.9578 - val_accuracy: 0.6971 - val_loss: 0.9502\n",
      "Epoch 4/20\n",
      "\u001b[1m860/860\u001b[0m \u001b[32m━━━━━━━━━━━━━━━━━━━━\u001b[0m\u001b[37m\u001b[0m \u001b[1m2s\u001b[0m 3ms/step - accuracy: 0.6931 - loss: 0.9539 - val_accuracy: 0.6968 - val_loss: 0.9480\n",
      "Epoch 5/20\n",
      "\u001b[1m860/860\u001b[0m \u001b[32m━━━━━━━━━━━━━━━━━━━━\u001b[0m\u001b[37m\u001b[0m \u001b[1m2s\u001b[0m 3ms/step - accuracy: 0.6930 - loss: 0.9534 - val_accuracy: 0.6971 - val_loss: 0.9445\n",
      "Epoch 6/20\n",
      "\u001b[1m860/860\u001b[0m \u001b[32m━━━━━━━━━━━━━━━━━━━━\u001b[0m\u001b[37m\u001b[0m \u001b[1m2s\u001b[0m 3ms/step - accuracy: 0.6931 - loss: 0.9520 - val_accuracy: 0.6967 - val_loss: 0.9452\n",
      "Epoch 7/20\n",
      "\u001b[1m860/860\u001b[0m \u001b[32m━━━━━━━━━━━━━━━━━━━━\u001b[0m\u001b[37m\u001b[0m \u001b[1m2s\u001b[0m 3ms/step - accuracy: 0.6927 - loss: 0.9502 - val_accuracy: 0.6969 - val_loss: 0.9426\n",
      "Epoch 8/20\n",
      "\u001b[1m860/860\u001b[0m \u001b[32m━━━━━━━━━━━━━━━━━━━━\u001b[0m\u001b[37m\u001b[0m \u001b[1m2s\u001b[0m 3ms/step - accuracy: 0.6930 - loss: 0.9495 - val_accuracy: 0.6966 - val_loss: 0.9397\n",
      "Epoch 9/20\n",
      "\u001b[1m860/860\u001b[0m \u001b[32m━━━━━━━━━━━━━━━━━━━━\u001b[0m\u001b[37m\u001b[0m \u001b[1m2s\u001b[0m 3ms/step - accuracy: 0.6930 - loss: 0.9508 - val_accuracy: 0.6969 - val_loss: 0.9499\n",
      "Epoch 10/20\n",
      "\u001b[1m860/860\u001b[0m \u001b[32m━━━━━━━━━━━━━━━━━━━━\u001b[0m\u001b[37m\u001b[0m \u001b[1m3s\u001b[0m 3ms/step - accuracy: 0.6931 - loss: 0.9491 - val_accuracy: 0.6971 - val_loss: 0.9477\n",
      "Epoch 11/20\n",
      "\u001b[1m860/860\u001b[0m \u001b[32m━━━━━━━━━━━━━━━━━━━━\u001b[0m\u001b[37m\u001b[0m \u001b[1m2s\u001b[0m 2ms/step - accuracy: 0.6928 - loss: 0.9484 - val_accuracy: 0.6968 - val_loss: 0.9409\n",
      "Epoch 12/20\n",
      "\u001b[1m860/860\u001b[0m \u001b[32m━━━━━━━━━━━━━━━━━━━━\u001b[0m\u001b[37m\u001b[0m \u001b[1m2s\u001b[0m 3ms/step - accuracy: 0.6934 - loss: 0.9477 - val_accuracy: 0.6974 - val_loss: 0.9529\n",
      "Epoch 13/20\n",
      "\u001b[1m860/860\u001b[0m \u001b[32m━━━━━━━━━━━━━━━━━━━━\u001b[0m\u001b[37m\u001b[0m \u001b[1m3s\u001b[0m 3ms/step - accuracy: 0.6929 - loss: 0.9467 - val_accuracy: 0.6969 - val_loss: 0.9395\n",
      "Epoch 14/20\n",
      "\u001b[1m860/860\u001b[0m \u001b[32m━━━━━━━━━━━━━━━━━━━━\u001b[0m\u001b[37m\u001b[0m \u001b[1m2s\u001b[0m 3ms/step - accuracy: 0.6934 - loss: 0.9462 - val_accuracy: 0.6971 - val_loss: 0.9455\n",
      "Epoch 15/20\n",
      "\u001b[1m860/860\u001b[0m \u001b[32m━━━━━━━━━━━━━━━━━━━━\u001b[0m\u001b[37m\u001b[0m \u001b[1m2s\u001b[0m 3ms/step - accuracy: 0.6933 - loss: 0.9459 - val_accuracy: 0.6968 - val_loss: 0.9557\n",
      "Epoch 16/20\n",
      "\u001b[1m860/860\u001b[0m \u001b[32m━━━━━━━━━━━━━━━━━━━━\u001b[0m\u001b[37m\u001b[0m \u001b[1m2s\u001b[0m 3ms/step - accuracy: 0.6931 - loss: 0.9455 - val_accuracy: 0.6969 - val_loss: 0.9374\n",
      "Epoch 17/20\n",
      "\u001b[1m860/860\u001b[0m \u001b[32m━━━━━━━━━━━━━━━━━━━━\u001b[0m\u001b[37m\u001b[0m \u001b[1m2s\u001b[0m 3ms/step - accuracy: 0.6930 - loss: 0.9463 - val_accuracy: 0.6969 - val_loss: 0.9420\n",
      "Epoch 18/20\n",
      "\u001b[1m860/860\u001b[0m \u001b[32m━━━━━━━━━━━━━━━━━━━━\u001b[0m\u001b[37m\u001b[0m \u001b[1m2s\u001b[0m 3ms/step - accuracy: 0.6932 - loss: 0.9464 - val_accuracy: 0.6970 - val_loss: 0.9425\n",
      "Epoch 19/20\n",
      "\u001b[1m860/860\u001b[0m \u001b[32m━━━━━━━━━━━━━━━━━━━━\u001b[0m\u001b[37m\u001b[0m \u001b[1m2s\u001b[0m 3ms/step - accuracy: 0.6931 - loss: 0.9455 - val_accuracy: 0.6965 - val_loss: 0.9424\n",
      "Epoch 20/20\n",
      "\u001b[1m860/860\u001b[0m \u001b[32m━━━━━━━━━━━━━━━━━━━━\u001b[0m\u001b[37m\u001b[0m \u001b[1m3s\u001b[0m 3ms/step - accuracy: 0.6932 - loss: 0.9457 - val_accuracy: 0.6968 - val_loss: 0.9407\n"
     ]
    }
   ],
   "source": [
    "#Train\n",
    "history1=batnorm.fit(x_train,y_train,validation_split=0.2,epochs=20,batch_size=64)"
   ]
  },
  {
   "cell_type": "code",
   "execution_count": 35,
   "id": "d952ab97",
   "metadata": {},
   "outputs": [
    {
     "name": "stdout",
     "output_type": "stream",
     "text": [
      "\u001b[1m537/537\u001b[0m \u001b[32m━━━━━━━━━━━━━━━━━━━━\u001b[0m\u001b[37m\u001b[0m \u001b[1m1s\u001b[0m 2ms/step - accuracy: 0.6938 - loss: 0.9439\n",
      "Test Accuracy: 0.6938074827194214\n"
     ]
    }
   ],
   "source": [
    "# Evaluate\n",
    "loss, accuracy=batnorm.evaluate(x_test,y_test)\n",
    "print(\"Test Accuracy:\",accuracy)"
   ]
  },
  {
   "cell_type": "markdown",
   "id": "3b90e687",
   "metadata": {},
   "source": [
    "#Comapre the Model"
   ]
  },
  {
   "cell_type": "code",
   "execution_count": 36,
   "id": "21deda7e",
   "metadata": {},
   "outputs": [
    {
     "data": {
      "image/png": "[encoded data removed]",
      "text/plain": [
       "<Figure size 1200x700 with 1 Axes>"
      ]
     },
     "metadata": {},
     "output_type": "display_data"
    }
   ],
   "source": [
    "df_acc = pd.DataFrame({\n",
    "    'Simple Train': history.history['accuracy'],\n",
    "    'Simple Val': history.history['val_accuracy'],\n",
    "    'BatchNorm Train': history1.history['accuracy'],\n",
    "    'BatchNorm Val': history1.history['val_accuracy']\n",
    "})\n",
    "\n",
    "#Add epoch column automatically\n",
    "df_acc['Epoch']=df_acc.index+1\n",
    "\n",
    "#Melt the DataFrame to long format for Seaborn\n",
    "plt.figure(figsize=(12,7))\n",
    "df_acc_melt=df_acc.melt(id_vars='Epoch',var_name='Type',value_name='Accuracy')\n",
    "sns.lineplot(data=df_acc_melt,x='Epoch',y='Accuracy',hue='Type',marker='o')\n",
    "plt.title('Simple vs BatchNorm ANN')\n",
    "plt.xlabel('Epoch')\n",
    "plt.ylabel('Accuracy')\n",
    "plt.show()\n"
   ]
  },
  {
   "cell_type": "markdown",
   "id": "aec9cb36",
   "metadata": {},
   "source": [
    "#Cross Validation"
   ]
  },
  {
   "cell_type": "code",
   "execution_count": null,
   "id": "69a48632",
   "metadata": {},
   "outputs": [
    {
     "name": "stdout",
     "output_type": "stream",
     "text": [
      "   Fold  Simple ANN  BatchNorm ANN\n",
      "0     1    0.693925       0.693270\n",
      "1     2    0.693998       0.693780\n",
      "2     3    0.693998       0.693998\n",
      "3     4    0.693998       0.692688\n",
      "4     5    0.693925       0.693416\n",
      "\n",
      "Average Accuracy:\n",
      "Simple ANN: 0.6939687158966896\n",
      "BatchNorm ANN: 0.6934303383048381\n"
     ]
    }
   ],
   "source": [
    "from sklearn.model_selection import cross_val_score, StratifiedKFold\n",
    "\n",
    "def create_simple_ann():\n",
    "    return ann\n",
    "      \n",
    "\n",
    "def create_batchnorm_ann():\n",
    "    return batnorm  \n",
    "\n",
    "simple_model = KerasClassifier(model=create_simple_ann, epochs=20, batch_size=32, verbose=0)\n",
    "batchnorm_model = KerasClassifier(model=create_batchnorm_ann, epochs=20, batch_size=64, verbose=0)\n",
    "\n",
    "#Stratified 5-fold cross-validation\n",
    "kf = StratifiedKFold(n_splits=5, shuffle=True, random_state=42)\n",
    "\n",
    "#Run cross-validation\n",
    "scores_simple = cross_val_score(simple_model, x_train, y_train, cv=kf)\n",
    "scores_batchnorm = cross_val_score(batchnorm_model, x_train, y_train, cv=kf)\n",
    "\n",
    "\n",
    "df_cv=pd.DataFrame({\n",
    "    'Fold': range(1, len(scores_simple) + 1),\n",
    "    'Simple ANN': scores_simple,\n",
    "    'BatchNorm ANN': scores_batchnorm\n",
    "})\n",
    "\n",
    "print(df_cv)\n",
    "print(\"\\nAverage Accuracy:\")\n",
    "print(\"Simple ANN:\", scores_simple.mean())\n",
    "print(\"BatchNorm ANN:\", scores_batchnorm.mean())\n"
   ]
  },
  {
   "cell_type": "markdown",
   "id": "046041e4",
   "metadata": {},
   "source": [
    "#Visualize Important Feauture"
   ]
  },
  {
   "cell_type": "markdown",
   "id": "aa6ed592",
   "metadata": {},
   "source": [
    "->ANN"
   ]
  },
  {
   "cell_type": "code",
   "execution_count": 48,
   "id": "0552226c",
   "metadata": {},
   "outputs": [
    {
     "data": {
      "text/html": [
       "<pre style=\"white-space:pre;overflow-x:auto;line-height:normal;font-family:Menlo,'DejaVu Sans Mono',consolas,'Courier New',monospace\"><span style=\"font-weight: bold\">Model: \"sequential\"</span>\n",
       "</pre>\n"
      ],
      "text/plain": [
       "\u001b[1mModel: \"sequential\"\u001b[0m\n"
      ]
     },
     "metadata": {},
     "output_type": "display_data"
    },
    {
     "data": {
      "text/html": [
       "<pre style=\"white-space:pre;overflow-x:auto;line-height:normal;font-family:Menlo,'DejaVu Sans Mono',consolas,'Courier New',monospace\">┏━━━━━━━━━━━━━━━━━━━━━━━━━━━━━━━━━┳━━━━━━━━━━━━━━━━━━━━━━━━┳━━━━━━━━━━━━━━━┓\n",
       "┃<span style=\"font-weight: bold\"> Layer (type)                    </span>┃<span style=\"font-weight: bold\"> Output Shape           </span>┃<span style=\"font-weight: bold\">       Param # </span>┃\n",
       "┡━━━━━━━━━━━━━━━━━━━━━━━━━━━━━━━━━╇━━━━━━━━━━━━━━━━━━━━━━━━╇━━━━━━━━━━━━━━━┩\n",
       "│ dense (<span style=\"color: #0087ff; text-decoration-color: #0087ff\">Dense</span>)                   │ (<span style=\"color: #00d7ff; text-decoration-color: #00d7ff\">None</span>, <span style=\"color: #00af00; text-decoration-color: #00af00\">64</span>)             │         <span style=\"color: #00af00; text-decoration-color: #00af00\">1,152</span> │\n",
       "├─────────────────────────────────┼────────────────────────┼───────────────┤\n",
       "│ dense_1 (<span style=\"color: #0087ff; text-decoration-color: #0087ff\">Dense</span>)                 │ (<span style=\"color: #00d7ff; text-decoration-color: #00d7ff\">None</span>, <span style=\"color: #00af00; text-decoration-color: #00af00\">32</span>)             │         <span style=\"color: #00af00; text-decoration-color: #00af00\">2,080</span> │\n",
       "├─────────────────────────────────┼────────────────────────┼───────────────┤\n",
       "│ dense_2 (<span style=\"color: #0087ff; text-decoration-color: #0087ff\">Dense</span>)                 │ (<span style=\"color: #00d7ff; text-decoration-color: #00d7ff\">None</span>, <span style=\"color: #00af00; text-decoration-color: #00af00\">5</span>)              │           <span style=\"color: #00af00; text-decoration-color: #00af00\">165</span> │\n",
       "└─────────────────────────────────┴────────────────────────┴───────────────┘\n",
       "</pre>\n"
      ],
      "text/plain": [
       "┏━━━━━━━━━━━━━━━━━━━━━━━━━━━━━━━━━┳━━━━━━━━━━━━━━━━━━━━━━━━┳━━━━━━━━━━━━━━━┓\n",
       "┃\u001b[1m \u001b[0m\u001b[1mLayer (type)                   \u001b[0m\u001b[1m \u001b[0m┃\u001b[1m \u001b[0m\u001b[1mOutput Shape          \u001b[0m\u001b[1m \u001b[0m┃\u001b[1m \u001b[0m\u001b[1m      Param #\u001b[0m\u001b[1m \u001b[0m┃\n",
       "┡━━━━━━━━━━━━━━━━━━━━━━━━━━━━━━━━━╇━━━━━━━━━━━━━━━━━━━━━━━━╇━━━━━━━━━━━━━━━┩\n",
       "│ dense (\u001b[38;5;33mDense\u001b[0m)                   │ (\u001b[38;5;45mNone\u001b[0m, \u001b[38;5;34m64\u001b[0m)             │         \u001b[38;5;34m1,152\u001b[0m │\n",
       "├─────────────────────────────────┼────────────────────────┼───────────────┤\n",
       "│ dense_1 (\u001b[38;5;33mDense\u001b[0m)                 │ (\u001b[38;5;45mNone\u001b[0m, \u001b[38;5;34m32\u001b[0m)             │         \u001b[38;5;34m2,080\u001b[0m │\n",
       "├─────────────────────────────────┼────────────────────────┼───────────────┤\n",
       "│ dense_2 (\u001b[38;5;33mDense\u001b[0m)                 │ (\u001b[38;5;45mNone\u001b[0m, \u001b[38;5;34m5\u001b[0m)              │           \u001b[38;5;34m165\u001b[0m │\n",
       "└─────────────────────────────────┴────────────────────────┴───────────────┘\n"
      ]
     },
     "metadata": {},
     "output_type": "display_data"
    },
    {
     "data": {
      "text/html": [
       "<pre style=\"white-space:pre;overflow-x:auto;line-height:normal;font-family:Menlo,'DejaVu Sans Mono',consolas,'Courier New',monospace\"><span style=\"font-weight: bold\"> Total params: </span><span style=\"color: #00af00; text-decoration-color: #00af00\">10,193</span> (39.82 KB)\n",
       "</pre>\n"
      ],
      "text/plain": [
       "\u001b[1m Total params: \u001b[0m\u001b[38;5;34m10,193\u001b[0m (39.82 KB)\n"
      ]
     },
     "metadata": {},
     "output_type": "display_data"
    },
    {
     "data": {
      "text/html": [
       "<pre style=\"white-space:pre;overflow-x:auto;line-height:normal;font-family:Menlo,'DejaVu Sans Mono',consolas,'Courier New',monospace\"><span style=\"font-weight: bold\"> Trainable params: </span><span style=\"color: #00af00; text-decoration-color: #00af00\">3,397</span> (13.27 KB)\n",
       "</pre>\n"
      ],
      "text/plain": [
       "\u001b[1m Trainable params: \u001b[0m\u001b[38;5;34m3,397\u001b[0m (13.27 KB)\n"
      ]
     },
     "metadata": {},
     "output_type": "display_data"
    },
    {
     "data": {
      "text/html": [
       "<pre style=\"white-space:pre;overflow-x:auto;line-height:normal;font-family:Menlo,'DejaVu Sans Mono',consolas,'Courier New',monospace\"><span style=\"font-weight: bold\"> Non-trainable params: </span><span style=\"color: #00af00; text-decoration-color: #00af00\">0</span> (0.00 B)\n",
       "</pre>\n"
      ],
      "text/plain": [
       "\u001b[1m Non-trainable params: \u001b[0m\u001b[38;5;34m0\u001b[0m (0.00 B)\n"
      ]
     },
     "metadata": {},
     "output_type": "display_data"
    },
    {
     "data": {
      "text/html": [
       "<pre style=\"white-space:pre;overflow-x:auto;line-height:normal;font-family:Menlo,'DejaVu Sans Mono',consolas,'Courier New',monospace\"><span style=\"font-weight: bold\"> Optimizer params: </span><span style=\"color: #00af00; text-decoration-color: #00af00\">6,796</span> (26.55 KB)\n",
       "</pre>\n"
      ],
      "text/plain": [
       "\u001b[1m Optimizer params: \u001b[0m\u001b[38;5;34m6,796\u001b[0m (26.55 KB)\n"
      ]
     },
     "metadata": {},
     "output_type": "display_data"
    }
   ],
   "source": [
    "#Model Summary\n",
    "ann.summary()"
   ]
  },
  {
   "cell_type": "code",
   "execution_count": null,
   "id": "abbfd696",
   "metadata": {},
   "outputs": [
    {
     "name": "stdout",
     "output_type": "stream",
     "text": [
      "\u001b[1m537/537\u001b[0m \u001b[32m━━━━━━━━━━━━━━━━━━━━\u001b[0m\u001b[37m\u001b[0m \u001b[1m0s\u001b[0m 608us/step\n",
      "\u001b[1m537/537\u001b[0m \u001b[32m━━━━━━━━━━━━━━━━━━━━\u001b[0m\u001b[37m\u001b[0m \u001b[1m0s\u001b[0m 629us/step\n",
      "\u001b[1m537/537\u001b[0m \u001b[32m━━━━━━━━━━━━━━━━━━━━\u001b[0m\u001b[37m\u001b[0m \u001b[1m0s\u001b[0m 722us/step\n",
      "\u001b[1m537/537\u001b[0m \u001b[32m━━━━━━━━━━━━━━━━━━━━\u001b[0m\u001b[37m\u001b[0m \u001b[1m0s\u001b[0m 815us/step\n",
      "\u001b[1m537/537\u001b[0m \u001b[32m━━━━━━━━━━━━━━━━━━━━\u001b[0m\u001b[37m\u001b[0m \u001b[1m0s\u001b[0m 623us/step\n",
      "\u001b[1m537/537\u001b[0m \u001b[32m━━━━━━━━━━━━━━━━━━━━\u001b[0m\u001b[37m\u001b[0m \u001b[1m0s\u001b[0m 620us/step\n",
      "\u001b[1m537/537\u001b[0m \u001b[32m━━━━━━━━━━━━━━━━━━━━\u001b[0m\u001b[37m\u001b[0m \u001b[1m0s\u001b[0m 588us/step\n",
      "\u001b[1m537/537\u001b[0m \u001b[32m━━━━━━━━━━━━━━━━━━━━\u001b[0m\u001b[37m\u001b[0m \u001b[1m0s\u001b[0m 591us/step\n",
      "\u001b[1m537/537\u001b[0m \u001b[32m━━━━━━━━━━━━━━━━━━━━\u001b[0m\u001b[37m\u001b[0m \u001b[1m0s\u001b[0m 624us/step\n",
      "\u001b[1m537/537\u001b[0m \u001b[32m━━━━━━━━━━━━━━━━━━━━\u001b[0m\u001b[37m\u001b[0m \u001b[1m0s\u001b[0m 623us/step\n",
      "\u001b[1m537/537\u001b[0m \u001b[32m━━━━━━━━━━━━━━━━━━━━\u001b[0m\u001b[37m\u001b[0m \u001b[1m0s\u001b[0m 623us/step\n",
      "\u001b[1m537/537\u001b[0m \u001b[32m━━━━━━━━━━━━━━━━━━━━\u001b[0m\u001b[37m\u001b[0m \u001b[1m0s\u001b[0m 689us/step\n",
      "\u001b[1m537/537\u001b[0m \u001b[32m━━━━━━━━━━━━━━━━━━━━\u001b[0m\u001b[37m\u001b[0m \u001b[1m0s\u001b[0m 710us/step\n",
      "\u001b[1m537/537\u001b[0m \u001b[32m━━━━━━━━━━━━━━━━━━━━\u001b[0m\u001b[37m\u001b[0m \u001b[1m0s\u001b[0m 636us/step\n",
      "\u001b[1m537/537\u001b[0m \u001b[32m━━━━━━━━━━━━━━━━━━━━\u001b[0m\u001b[37m\u001b[0m \u001b[1m0s\u001b[0m 638us/step\n",
      "\u001b[1m537/537\u001b[0m \u001b[32m━━━━━━━━━━━━━━━━━━━━\u001b[0m\u001b[37m\u001b[0m \u001b[1m0s\u001b[0m 679us/step\n",
      "\u001b[1m537/537\u001b[0m \u001b[32m━━━━━━━━━━━━━━━━━━━━\u001b[0m\u001b[37m\u001b[0m \u001b[1m0s\u001b[0m 703us/step\n",
      "\u001b[1m537/537\u001b[0m \u001b[32m━━━━━━━━━━━━━━━━━━━━\u001b[0m\u001b[37m\u001b[0m \u001b[1m0s\u001b[0m 579us/step\n"
     ]
    },
    {
     "data": {
      "image/png": "[encoded data removed]",
      "text/plain": [
       "<Figure size 1000x600 with 1 Axes>"
      ]
     },
     "metadata": {},
     "output_type": "display_data"
    }
   ],
   "source": [
    "base_acc = np.mean(np.argmax(ann.predict(x_test), axis=1) == y_test)\n",
    "imp_simple = []\n",
    "\n",
    "for col in x_test.columns:\n",
    "    temp = x_test.copy()\n",
    "    temp[col] = np.random.permutation(temp[col])\n",
    "    acc = np.mean(np.argmax(ann.predict(temp), axis=1) == y_test)\n",
    "    imp_simple.append(base_acc - acc)\n",
    "\n",
    "feat_imp_simple = pd.DataFrame({'Feature': x_test.columns, 'Importance': imp_simple}).sort_values('Importance')\n",
    "\n",
    "plt.barh(feat_imp_simple['Feature'], feat_imp_simple['Importance'], color='skyblue')\n",
    "plt.xlabel(\"Importance (Accuracy Drop)\")\n",
    "plt.title(\"Feature Importance - Simple ANN\")\n",
    "plt.show()\n"
   ]
  },
  {
   "cell_type": "markdown",
   "id": "52e9ec6c",
   "metadata": {},
   "source": [
    "->Batch Normalization"
   ]
  },
  {
   "cell_type": "code",
   "execution_count": 49,
   "id": "90b6e8e6",
   "metadata": {},
   "outputs": [
    {
     "data": {
      "text/html": [
       "<pre style=\"white-space:pre;overflow-x:auto;line-height:normal;font-family:Menlo,'DejaVu Sans Mono',consolas,'Courier New',monospace\"><span style=\"font-weight: bold\">Model: \"sequential_1\"</span>\n",
       "</pre>\n"
      ],
      "text/plain": [
       "\u001b[1mModel: \"sequential_1\"\u001b[0m\n"
      ]
     },
     "metadata": {},
     "output_type": "display_data"
    },
    {
     "data": {
      "text/html": [
       "<pre style=\"white-space:pre;overflow-x:auto;line-height:normal;font-family:Menlo,'DejaVu Sans Mono',consolas,'Courier New',monospace\">┏━━━━━━━━━━━━━━━━━━━━━━━━━━━━━━━━━┳━━━━━━━━━━━━━━━━━━━━━━━━┳━━━━━━━━━━━━━━━┓\n",
       "┃<span style=\"font-weight: bold\"> Layer (type)                    </span>┃<span style=\"font-weight: bold\"> Output Shape           </span>┃<span style=\"font-weight: bold\">       Param # </span>┃\n",
       "┡━━━━━━━━━━━━━━━━━━━━━━━━━━━━━━━━━╇━━━━━━━━━━━━━━━━━━━━━━━━╇━━━━━━━━━━━━━━━┩\n",
       "│ dense_3 (<span style=\"color: #0087ff; text-decoration-color: #0087ff\">Dense</span>)                 │ (<span style=\"color: #00d7ff; text-decoration-color: #00d7ff\">None</span>, <span style=\"color: #00af00; text-decoration-color: #00af00\">128</span>)            │         <span style=\"color: #00af00; text-decoration-color: #00af00\">2,304</span> │\n",
       "├─────────────────────────────────┼────────────────────────┼───────────────┤\n",
       "│ batch_normalization             │ (<span style=\"color: #00d7ff; text-decoration-color: #00d7ff\">None</span>, <span style=\"color: #00af00; text-decoration-color: #00af00\">128</span>)            │           <span style=\"color: #00af00; text-decoration-color: #00af00\">512</span> │\n",
       "│ (<span style=\"color: #0087ff; text-decoration-color: #0087ff\">BatchNormalization</span>)            │                        │               │\n",
       "├─────────────────────────────────┼────────────────────────┼───────────────┤\n",
       "│ dropout (<span style=\"color: #0087ff; text-decoration-color: #0087ff\">Dropout</span>)               │ (<span style=\"color: #00d7ff; text-decoration-color: #00d7ff\">None</span>, <span style=\"color: #00af00; text-decoration-color: #00af00\">128</span>)            │             <span style=\"color: #00af00; text-decoration-color: #00af00\">0</span> │\n",
       "├─────────────────────────────────┼────────────────────────┼───────────────┤\n",
       "│ dense_4 (<span style=\"color: #0087ff; text-decoration-color: #0087ff\">Dense</span>)                 │ (<span style=\"color: #00d7ff; text-decoration-color: #00d7ff\">None</span>, <span style=\"color: #00af00; text-decoration-color: #00af00\">64</span>)             │         <span style=\"color: #00af00; text-decoration-color: #00af00\">8,256</span> │\n",
       "├─────────────────────────────────┼────────────────────────┼───────────────┤\n",
       "│ batch_normalization_1           │ (<span style=\"color: #00d7ff; text-decoration-color: #00d7ff\">None</span>, <span style=\"color: #00af00; text-decoration-color: #00af00\">64</span>)             │           <span style=\"color: #00af00; text-decoration-color: #00af00\">256</span> │\n",
       "│ (<span style=\"color: #0087ff; text-decoration-color: #0087ff\">BatchNormalization</span>)            │                        │               │\n",
       "├─────────────────────────────────┼────────────────────────┼───────────────┤\n",
       "│ dropout_1 (<span style=\"color: #0087ff; text-decoration-color: #0087ff\">Dropout</span>)             │ (<span style=\"color: #00d7ff; text-decoration-color: #00d7ff\">None</span>, <span style=\"color: #00af00; text-decoration-color: #00af00\">64</span>)             │             <span style=\"color: #00af00; text-decoration-color: #00af00\">0</span> │\n",
       "├─────────────────────────────────┼────────────────────────┼───────────────┤\n",
       "│ dense_5 (<span style=\"color: #0087ff; text-decoration-color: #0087ff\">Dense</span>)                 │ (<span style=\"color: #00d7ff; text-decoration-color: #00d7ff\">None</span>, <span style=\"color: #00af00; text-decoration-color: #00af00\">32</span>)             │         <span style=\"color: #00af00; text-decoration-color: #00af00\">2,080</span> │\n",
       "├─────────────────────────────────┼────────────────────────┼───────────────┤\n",
       "│ dense_6 (<span style=\"color: #0087ff; text-decoration-color: #0087ff\">Dense</span>)                 │ (<span style=\"color: #00d7ff; text-decoration-color: #00d7ff\">None</span>, <span style=\"color: #00af00; text-decoration-color: #00af00\">5</span>)              │           <span style=\"color: #00af00; text-decoration-color: #00af00\">165</span> │\n",
       "└─────────────────────────────────┴────────────────────────┴───────────────┘\n",
       "</pre>\n"
      ],
      "text/plain": [
       "┏━━━━━━━━━━━━━━━━━━━━━━━━━━━━━━━━━┳━━━━━━━━━━━━━━━━━━━━━━━━┳━━━━━━━━━━━━━━━┓\n",
       "┃\u001b[1m \u001b[0m\u001b[1mLayer (type)                   \u001b[0m\u001b[1m \u001b[0m┃\u001b[1m \u001b[0m\u001b[1mOutput Shape          \u001b[0m\u001b[1m \u001b[0m┃\u001b[1m \u001b[0m\u001b[1m      Param #\u001b[0m\u001b[1m \u001b[0m┃\n",
       "┡━━━━━━━━━━━━━━━━━━━━━━━━━━━━━━━━━╇━━━━━━━━━━━━━━━━━━━━━━━━╇━━━━━━━━━━━━━━━┩\n",
       "│ dense_3 (\u001b[38;5;33mDense\u001b[0m)                 │ (\u001b[38;5;45mNone\u001b[0m, \u001b[38;5;34m128\u001b[0m)            │         \u001b[38;5;34m2,304\u001b[0m │\n",
       "├─────────────────────────────────┼────────────────────────┼───────────────┤\n",
       "│ batch_normalization             │ (\u001b[38;5;45mNone\u001b[0m, \u001b[38;5;34m128\u001b[0m)            │           \u001b[38;5;34m512\u001b[0m │\n",
       "│ (\u001b[38;5;33mBatchNormalization\u001b[0m)            │                        │               │\n",
       "├─────────────────────────────────┼────────────────────────┼───────────────┤\n",
       "│ dropout (\u001b[38;5;33mDropout\u001b[0m)               │ (\u001b[38;5;45mNone\u001b[0m, \u001b[38;5;34m128\u001b[0m)            │             \u001b[38;5;34m0\u001b[0m │\n",
       "├─────────────────────────────────┼────────────────────────┼───────────────┤\n",
       "│ dense_4 (\u001b[38;5;33mDense\u001b[0m)                 │ (\u001b[38;5;45mNone\u001b[0m, \u001b[38;5;34m64\u001b[0m)             │         \u001b[38;5;34m8,256\u001b[0m │\n",
       "├─────────────────────────────────┼────────────────────────┼───────────────┤\n",
       "│ batch_normalization_1           │ (\u001b[38;5;45mNone\u001b[0m, \u001b[38;5;34m64\u001b[0m)             │           \u001b[38;5;34m256\u001b[0m │\n",
       "│ (\u001b[38;5;33mBatchNormalization\u001b[0m)            │                        │               │\n",
       "├─────────────────────────────────┼────────────────────────┼───────────────┤\n",
       "│ dropout_1 (\u001b[38;5;33mDropout\u001b[0m)             │ (\u001b[38;5;45mNone\u001b[0m, \u001b[38;5;34m64\u001b[0m)             │             \u001b[38;5;34m0\u001b[0m │\n",
       "├─────────────────────────────────┼────────────────────────┼───────────────┤\n",
       "│ dense_5 (\u001b[38;5;33mDense\u001b[0m)                 │ (\u001b[38;5;45mNone\u001b[0m, \u001b[38;5;34m32\u001b[0m)             │         \u001b[38;5;34m2,080\u001b[0m │\n",
       "├─────────────────────────────────┼────────────────────────┼───────────────┤\n",
       "│ dense_6 (\u001b[38;5;33mDense\u001b[0m)                 │ (\u001b[38;5;45mNone\u001b[0m, \u001b[38;5;34m5\u001b[0m)              │           \u001b[38;5;34m165\u001b[0m │\n",
       "└─────────────────────────────────┴────────────────────────┴───────────────┘\n"
      ]
     },
     "metadata": {},
     "output_type": "display_data"
    },
    {
     "data": {
      "text/html": [
       "<pre style=\"white-space:pre;overflow-x:auto;line-height:normal;font-family:Menlo,'DejaVu Sans Mono',consolas,'Courier New',monospace\"><span style=\"font-weight: bold\"> Total params: </span><span style=\"color: #00af00; text-decoration-color: #00af00\">39,953</span> (156.07 KB)\n",
       "</pre>\n"
      ],
      "text/plain": [
       "\u001b[1m Total params: \u001b[0m\u001b[38;5;34m39,953\u001b[0m (156.07 KB)\n"
      ]
     },
     "metadata": {},
     "output_type": "display_data"
    },
    {
     "data": {
      "text/html": [
       "<pre style=\"white-space:pre;overflow-x:auto;line-height:normal;font-family:Menlo,'DejaVu Sans Mono',consolas,'Courier New',monospace\"><span style=\"font-weight: bold\"> Trainable params: </span><span style=\"color: #00af00; text-decoration-color: #00af00\">13,189</span> (51.52 KB)\n",
       "</pre>\n"
      ],
      "text/plain": [
       "\u001b[1m Trainable params: \u001b[0m\u001b[38;5;34m13,189\u001b[0m (51.52 KB)\n"
      ]
     },
     "metadata": {},
     "output_type": "display_data"
    },
    {
     "data": {
      "text/html": [
       "<pre style=\"white-space:pre;overflow-x:auto;line-height:normal;font-family:Menlo,'DejaVu Sans Mono',consolas,'Courier New',monospace\"><span style=\"font-weight: bold\"> Non-trainable params: </span><span style=\"color: #00af00; text-decoration-color: #00af00\">384</span> (1.50 KB)\n",
       "</pre>\n"
      ],
      "text/plain": [
       "\u001b[1m Non-trainable params: \u001b[0m\u001b[38;5;34m384\u001b[0m (1.50 KB)\n"
      ]
     },
     "metadata": {},
     "output_type": "display_data"
    },
    {
     "data": {
      "text/html": [
       "<pre style=\"white-space:pre;overflow-x:auto;line-height:normal;font-family:Menlo,'DejaVu Sans Mono',consolas,'Courier New',monospace\"><span style=\"font-weight: bold\"> Optimizer params: </span><span style=\"color: #00af00; text-decoration-color: #00af00\">26,380</span> (103.05 KB)\n",
       "</pre>\n"
      ],
      "text/plain": [
       "\u001b[1m Optimizer params: \u001b[0m\u001b[38;5;34m26,380\u001b[0m (103.05 KB)\n"
      ]
     },
     "metadata": {},
     "output_type": "display_data"
    }
   ],
   "source": [
    "#Model Summary\n",
    "batnorm.summary()"
   ]
  },
  {
   "cell_type": "code",
   "execution_count": 56,
   "id": "fa669f82",
   "metadata": {},
   "outputs": [
    {
     "name": "stdout",
     "output_type": "stream",
     "text": [
      "\u001b[1m537/537\u001b[0m \u001b[32m━━━━━━━━━━━━━━━━━━━━\u001b[0m\u001b[37m\u001b[0m \u001b[1m0s\u001b[0m 769us/step\n",
      "\u001b[1m537/537\u001b[0m \u001b[32m━━━━━━━━━━━━━━━━━━━━\u001b[0m\u001b[37m\u001b[0m \u001b[1m0s\u001b[0m 695us/step\n",
      "\u001b[1m537/537\u001b[0m \u001b[32m━━━━━━━━━━━━━━━━━━━━\u001b[0m\u001b[37m\u001b[0m \u001b[1m0s\u001b[0m 718us/step\n",
      "\u001b[1m537/537\u001b[0m \u001b[32m━━━━━━━━━━━━━━━━━━━━\u001b[0m\u001b[37m\u001b[0m \u001b[1m0s\u001b[0m 808us/step\n",
      "\u001b[1m537/537\u001b[0m \u001b[32m━━━━━━━━━━━━━━━━━━━━\u001b[0m\u001b[37m\u001b[0m \u001b[1m0s\u001b[0m 763us/step\n",
      "\u001b[1m537/537\u001b[0m \u001b[32m━━━━━━━━━━━━━━━━━━━━\u001b[0m\u001b[37m\u001b[0m \u001b[1m0s\u001b[0m 906us/step\n",
      "\u001b[1m537/537\u001b[0m \u001b[32m━━━━━━━━━━━━━━━━━━━━\u001b[0m\u001b[37m\u001b[0m \u001b[1m0s\u001b[0m 698us/step\n",
      "\u001b[1m537/537\u001b[0m \u001b[32m━━━━━━━━━━━━━━━━━━━━\u001b[0m\u001b[37m\u001b[0m \u001b[1m0s\u001b[0m 692us/step\n",
      "\u001b[1m537/537\u001b[0m \u001b[32m━━━━━━━━━━━━━━━━━━━━\u001b[0m\u001b[37m\u001b[0m \u001b[1m0s\u001b[0m 728us/step\n",
      "\u001b[1m537/537\u001b[0m \u001b[32m━━━━━━━━━━━━━━━━━━━━\u001b[0m\u001b[37m\u001b[0m \u001b[1m0s\u001b[0m 686us/step\n",
      "\u001b[1m537/537\u001b[0m \u001b[32m━━━━━━━━━━━━━━━━━━━━\u001b[0m\u001b[37m\u001b[0m \u001b[1m0s\u001b[0m 668us/step\n",
      "\u001b[1m537/537\u001b[0m \u001b[32m━━━━━━━━━━━━━━━━━━━━\u001b[0m\u001b[37m\u001b[0m \u001b[1m0s\u001b[0m 686us/step\n",
      "\u001b[1m537/537\u001b[0m \u001b[32m━━━━━━━━━━━━━━━━━━━━\u001b[0m\u001b[37m\u001b[0m \u001b[1m0s\u001b[0m 678us/step\n",
      "\u001b[1m537/537\u001b[0m \u001b[32m━━━━━━━━━━━━━━━━━━━━\u001b[0m\u001b[37m\u001b[0m \u001b[1m0s\u001b[0m 699us/step\n",
      "\u001b[1m537/537\u001b[0m \u001b[32m━━━━━━━━━━━━━━━━━━━━\u001b[0m\u001b[37m\u001b[0m \u001b[1m0s\u001b[0m 663us/step\n",
      "\u001b[1m537/537\u001b[0m \u001b[32m━━━━━━━━━━━━━━━━━━━━\u001b[0m\u001b[37m\u001b[0m \u001b[1m0s\u001b[0m 810us/step\n",
      "\u001b[1m537/537\u001b[0m \u001b[32m━━━━━━━━━━━━━━━━━━━━\u001b[0m\u001b[37m\u001b[0m \u001b[1m0s\u001b[0m 743us/step\n",
      "\u001b[1m537/537\u001b[0m \u001b[32m━━━━━━━━━━━━━━━━━━━━\u001b[0m\u001b[37m\u001b[0m \u001b[1m0s\u001b[0m 691us/step\n"
     ]
    },
    {
     "data": {
      "image/png": "[encoded data removed]",
      "text/plain": [
       "<Figure size 640x480 with 1 Axes>"
      ]
     },
     "metadata": {},
     "output_type": "display_data"
    }
   ],
   "source": [
    "base_acc2 = np.mean(np.argmax(batnorm.predict(x_test), axis=1) == y_test)\n",
    "imp_batch = []\n",
    "\n",
    "for col in x_test.columns:\n",
    "    temp = x_test.copy()\n",
    "    temp[col] = np.random.permutation(temp[col])\n",
    "    acc = np.mean(np.argmax(batnorm.predict(temp), axis=1) == y_test)\n",
    "    imp_batch.append(base_acc2 - acc)\n",
    "\n",
    "feat_imp_batch = pd.DataFrame({'Feature': x_test.columns, 'Importance': imp_batch}).sort_values('Importance')\n",
    "\n",
    "plt.barh(feat_imp_batch['Feature'], feat_imp_batch['Importance'], color='salmon')\n",
    "plt.xlabel(\"Importance (Accuracy Drop)\")\n",
    "plt.title(\"Feature Importance - BatchNorm ANN\")\n",
    "plt.show()\n",
    "\n"
   ]
  },
  {
   "cell_type": "markdown",
   "id": "cd6881b5",
   "metadata": {},
   "source": [
    "#Final Conclusion"
   ]
  },
  {
   "cell_type": "markdown",
   "id": "f190185f",
   "metadata": {},
   "source": [
    "1.Since Simple ANN performs slightly better and is simpler, it is the preferred modelhere.\n",
    "\n",
    "2.The timing of issue_reported_at and issue_responded has the most significant effect on outcomes, indicating that monitoring and optimizing response times can greatly influence efficiency and performance.\n",
    "\n",
    "3.Likely, the timing of issue reporting and response plays a major role in determining the outcome."
   ]
  },
  {
   "cell_type": "code",
   "execution_count": null,
   "id": "2d1d9322",
   "metadata": {},
   "outputs": [
    {
     "name": "stderr",
     "output_type": "stream",
     "text": [
      "WARNING:absl:You are saving your model as an HDF5 file via `model.save()` or `keras.saving.save_model(model)`. This file format is considered legacy. We recommend using instead the native Keras format, e.g. `model.save('my_model.keras')` or `keras.saving.save_model(model, 'my_model.keras')`. \n"
     ]
    },
    {
     "name": "stdout",
     "output_type": "stream",
     "text": [
      "Model saved\n"
     ]
    }
   ],
   "source": [
    "#save model\n",
    "ann.save(\"Ann model.h5\")  \n",
    "print(\"Model saved\")"
   ]
  }
 ],
 "metadata": {
  "kernelspec": {
   "display_name": ".myenv",
   "language": "python",
   "name": "python3"
  },
  "language_info": {
   "codemirror_mode": {
    "name": "ipython",
    "version": 3
   },
   "file_extension": ".py",
   "mimetype": "text/x-python",
   "name": "python",
   "nbconvert_exporter": "python",
   "pygments_lexer": "ipython3",
   "version": "3.11.0"
  }
 },
 "nbformat": 4,
 "nbformat_minor": 5
}
